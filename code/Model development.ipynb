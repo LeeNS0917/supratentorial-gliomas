{
 "cells": [
  {
   "cell_type": "code",
   "execution_count": 1,
   "id": "26625966-e3d8-4354-9854-e5301b8d1d86",
   "metadata": {
    "tags": []
   },
   "outputs": [],
   "source": [
    "import pandas as pd\n",
    "import numpy as np\n",
    "from xgboost import XGBClassifier\n",
    "from sklearn import metrics\n",
    "from sklearn.model_selection import LeaveOneOut, StratifiedKFold, train_test_split\n",
    "from hyperopt import hp,STATUS_OK,Trials,fmin,tpe\n",
    "from hyperopt.early_stop import no_progress_loss\n",
    "import warnings\n",
    "from copy import deepcopy\n",
    "warnings.filterwarnings(\"ignore\")"
   ]
  },
  {
   "cell_type": "markdown",
   "id": "25e4ea89-11e8-4c6e-a30f-c05f9b083783",
   "metadata": {},
   "source": [
    "1. data preparation"
   ]
  },
  {
   "cell_type": "code",
   "execution_count": 2,
   "id": "a7078520-88c1-4be8-9e9f-1234071ebfe0",
   "metadata": {
    "tags": []
   },
   "outputs": [
    {
     "data": {
      "text/html": [
       "<div>\n",
       "<style scoped>\n",
       "    .dataframe tbody tr th:only-of-type {\n",
       "        vertical-align: middle;\n",
       "    }\n",
       "\n",
       "    .dataframe tbody tr th {\n",
       "        vertical-align: top;\n",
       "    }\n",
       "\n",
       "    .dataframe thead th {\n",
       "        text-align: right;\n",
       "    }\n",
       "</style>\n",
       "<table border=\"1\" class=\"dataframe\">\n",
       "  <thead>\n",
       "    <tr style=\"text-align: right;\">\n",
       "      <th></th>\n",
       "      <th>ID</th>\n",
       "      <th>SEX</th>\n",
       "      <th>AGE</th>\n",
       "      <th>L</th>\n",
       "      <th>R</th>\n",
       "      <th>L_F</th>\n",
       "      <th>L_T</th>\n",
       "      <th>L_P</th>\n",
       "      <th>L_O</th>\n",
       "      <th>L_I</th>\n",
       "      <th>...</th>\n",
       "      <th>S_M_S_ONLY</th>\n",
       "      <th>S_S_S_ONLY</th>\n",
       "      <th>S_Ap_S_ONLY</th>\n",
       "      <th>S_Cog_S_ONLY</th>\n",
       "      <th>S_BTH_S_ONLY</th>\n",
       "      <th>S_E_S_ONLY</th>\n",
       "      <th>S_Con_S_ONLY</th>\n",
       "      <th>S_Ab_S_ONLY</th>\n",
       "      <th>S_V_S_ONLY</th>\n",
       "      <th>S_Au_S_ONLY</th>\n",
       "    </tr>\n",
       "  </thead>\n",
       "  <tbody>\n",
       "    <tr>\n",
       "      <th>0</th>\n",
       "      <td>1</td>\n",
       "      <td>1</td>\n",
       "      <td>42</td>\n",
       "      <td>1</td>\n",
       "      <td>1</td>\n",
       "      <td>0</td>\n",
       "      <td>0</td>\n",
       "      <td>0</td>\n",
       "      <td>0</td>\n",
       "      <td>0</td>\n",
       "      <td>...</td>\n",
       "      <td>0.0</td>\n",
       "      <td>0.0</td>\n",
       "      <td>0.0</td>\n",
       "      <td>0.0</td>\n",
       "      <td>0.0</td>\n",
       "      <td>0.0</td>\n",
       "      <td>0.0</td>\n",
       "      <td>0.0</td>\n",
       "      <td>0.0</td>\n",
       "      <td>0.0</td>\n",
       "    </tr>\n",
       "    <tr>\n",
       "      <th>1</th>\n",
       "      <td>2</td>\n",
       "      <td>1</td>\n",
       "      <td>40</td>\n",
       "      <td>0</td>\n",
       "      <td>1</td>\n",
       "      <td>0</td>\n",
       "      <td>0</td>\n",
       "      <td>0</td>\n",
       "      <td>0</td>\n",
       "      <td>0</td>\n",
       "      <td>...</td>\n",
       "      <td>0.0</td>\n",
       "      <td>0.0</td>\n",
       "      <td>0.0</td>\n",
       "      <td>0.0</td>\n",
       "      <td>0.0</td>\n",
       "      <td>1.0</td>\n",
       "      <td>0.0</td>\n",
       "      <td>0.0</td>\n",
       "      <td>0.0</td>\n",
       "      <td>0.0</td>\n",
       "    </tr>\n",
       "    <tr>\n",
       "      <th>2</th>\n",
       "      <td>3</td>\n",
       "      <td>1</td>\n",
       "      <td>47</td>\n",
       "      <td>0</td>\n",
       "      <td>1</td>\n",
       "      <td>0</td>\n",
       "      <td>0</td>\n",
       "      <td>0</td>\n",
       "      <td>0</td>\n",
       "      <td>0</td>\n",
       "      <td>...</td>\n",
       "      <td>0.0</td>\n",
       "      <td>0.0</td>\n",
       "      <td>0.0</td>\n",
       "      <td>0.0</td>\n",
       "      <td>0.0</td>\n",
       "      <td>0.0</td>\n",
       "      <td>0.0</td>\n",
       "      <td>0.0</td>\n",
       "      <td>0.0</td>\n",
       "      <td>0.0</td>\n",
       "    </tr>\n",
       "    <tr>\n",
       "      <th>3</th>\n",
       "      <td>4</td>\n",
       "      <td>1</td>\n",
       "      <td>71</td>\n",
       "      <td>1</td>\n",
       "      <td>0</td>\n",
       "      <td>0</td>\n",
       "      <td>1</td>\n",
       "      <td>0</td>\n",
       "      <td>0</td>\n",
       "      <td>0</td>\n",
       "      <td>...</td>\n",
       "      <td>0.0</td>\n",
       "      <td>0.0</td>\n",
       "      <td>0.0</td>\n",
       "      <td>0.0</td>\n",
       "      <td>0.0</td>\n",
       "      <td>0.0</td>\n",
       "      <td>0.0</td>\n",
       "      <td>0.0</td>\n",
       "      <td>0.0</td>\n",
       "      <td>0.0</td>\n",
       "    </tr>\n",
       "    <tr>\n",
       "      <th>4</th>\n",
       "      <td>5</td>\n",
       "      <td>1</td>\n",
       "      <td>46</td>\n",
       "      <td>0</td>\n",
       "      <td>1</td>\n",
       "      <td>0</td>\n",
       "      <td>0</td>\n",
       "      <td>0</td>\n",
       "      <td>0</td>\n",
       "      <td>0</td>\n",
       "      <td>...</td>\n",
       "      <td>0.0</td>\n",
       "      <td>0.0</td>\n",
       "      <td>0.0</td>\n",
       "      <td>0.0</td>\n",
       "      <td>0.0</td>\n",
       "      <td>0.0</td>\n",
       "      <td>0.0</td>\n",
       "      <td>0.0</td>\n",
       "      <td>0.0</td>\n",
       "      <td>0.0</td>\n",
       "    </tr>\n",
       "    <tr>\n",
       "      <th>...</th>\n",
       "      <td>...</td>\n",
       "      <td>...</td>\n",
       "      <td>...</td>\n",
       "      <td>...</td>\n",
       "      <td>...</td>\n",
       "      <td>...</td>\n",
       "      <td>...</td>\n",
       "      <td>...</td>\n",
       "      <td>...</td>\n",
       "      <td>...</td>\n",
       "      <td>...</td>\n",
       "      <td>...</td>\n",
       "      <td>...</td>\n",
       "      <td>...</td>\n",
       "      <td>...</td>\n",
       "      <td>...</td>\n",
       "      <td>...</td>\n",
       "      <td>...</td>\n",
       "      <td>...</td>\n",
       "      <td>...</td>\n",
       "      <td>...</td>\n",
       "    </tr>\n",
       "    <tr>\n",
       "      <th>985</th>\n",
       "      <td>986</td>\n",
       "      <td>1</td>\n",
       "      <td>49</td>\n",
       "      <td>1</td>\n",
       "      <td>0</td>\n",
       "      <td>0</td>\n",
       "      <td>1</td>\n",
       "      <td>1</td>\n",
       "      <td>1</td>\n",
       "      <td>0</td>\n",
       "      <td>...</td>\n",
       "      <td>0.0</td>\n",
       "      <td>0.0</td>\n",
       "      <td>0.0</td>\n",
       "      <td>0.0</td>\n",
       "      <td>0.0</td>\n",
       "      <td>0.0</td>\n",
       "      <td>0.0</td>\n",
       "      <td>0.0</td>\n",
       "      <td>0.0</td>\n",
       "      <td>0.0</td>\n",
       "    </tr>\n",
       "    <tr>\n",
       "      <th>986</th>\n",
       "      <td>987</td>\n",
       "      <td>1</td>\n",
       "      <td>45</td>\n",
       "      <td>0</td>\n",
       "      <td>1</td>\n",
       "      <td>0</td>\n",
       "      <td>0</td>\n",
       "      <td>0</td>\n",
       "      <td>0</td>\n",
       "      <td>0</td>\n",
       "      <td>...</td>\n",
       "      <td>0.0</td>\n",
       "      <td>0.0</td>\n",
       "      <td>0.0</td>\n",
       "      <td>0.0</td>\n",
       "      <td>0.0</td>\n",
       "      <td>1.0</td>\n",
       "      <td>0.0</td>\n",
       "      <td>0.0</td>\n",
       "      <td>0.0</td>\n",
       "      <td>0.0</td>\n",
       "    </tr>\n",
       "    <tr>\n",
       "      <th>987</th>\n",
       "      <td>988</td>\n",
       "      <td>2</td>\n",
       "      <td>34</td>\n",
       "      <td>1</td>\n",
       "      <td>0</td>\n",
       "      <td>1</td>\n",
       "      <td>1</td>\n",
       "      <td>0</td>\n",
       "      <td>0</td>\n",
       "      <td>1</td>\n",
       "      <td>...</td>\n",
       "      <td>0.0</td>\n",
       "      <td>0.0</td>\n",
       "      <td>0.0</td>\n",
       "      <td>0.0</td>\n",
       "      <td>0.0</td>\n",
       "      <td>1.0</td>\n",
       "      <td>0.0</td>\n",
       "      <td>0.0</td>\n",
       "      <td>0.0</td>\n",
       "      <td>0.0</td>\n",
       "    </tr>\n",
       "    <tr>\n",
       "      <th>988</th>\n",
       "      <td>989</td>\n",
       "      <td>2</td>\n",
       "      <td>45</td>\n",
       "      <td>1</td>\n",
       "      <td>0</td>\n",
       "      <td>1</td>\n",
       "      <td>1</td>\n",
       "      <td>0</td>\n",
       "      <td>0</td>\n",
       "      <td>1</td>\n",
       "      <td>...</td>\n",
       "      <td>0.0</td>\n",
       "      <td>0.0</td>\n",
       "      <td>0.0</td>\n",
       "      <td>0.0</td>\n",
       "      <td>0.0</td>\n",
       "      <td>1.0</td>\n",
       "      <td>0.0</td>\n",
       "      <td>0.0</td>\n",
       "      <td>0.0</td>\n",
       "      <td>0.0</td>\n",
       "    </tr>\n",
       "    <tr>\n",
       "      <th>989</th>\n",
       "      <td>990</td>\n",
       "      <td>2</td>\n",
       "      <td>35</td>\n",
       "      <td>0</td>\n",
       "      <td>1</td>\n",
       "      <td>0</td>\n",
       "      <td>0</td>\n",
       "      <td>0</td>\n",
       "      <td>0</td>\n",
       "      <td>0</td>\n",
       "      <td>...</td>\n",
       "      <td>1.0</td>\n",
       "      <td>0.0</td>\n",
       "      <td>0.0</td>\n",
       "      <td>0.0</td>\n",
       "      <td>0.0</td>\n",
       "      <td>0.0</td>\n",
       "      <td>0.0</td>\n",
       "      <td>0.0</td>\n",
       "      <td>0.0</td>\n",
       "      <td>0.0</td>\n",
       "    </tr>\n",
       "  </tbody>\n",
       "</table>\n",
       "<p>990 rows × 131 columns</p>\n",
       "</div>"
      ],
      "text/plain": [
       "      ID  SEX  AGE  L  R  L_F  L_T  L_P  L_O  L_I  ...  S_M_S_ONLY  \\\n",
       "0      1    1   42  1  1    0    0    0    0    0  ...         0.0   \n",
       "1      2    1   40  0  1    0    0    0    0    0  ...         0.0   \n",
       "2      3    1   47  0  1    0    0    0    0    0  ...         0.0   \n",
       "3      4    1   71  1  0    0    1    0    0    0  ...         0.0   \n",
       "4      5    1   46  0  1    0    0    0    0    0  ...         0.0   \n",
       "..   ...  ...  ... .. ..  ...  ...  ...  ...  ...  ...         ...   \n",
       "985  986    1   49  1  0    0    1    1    1    0  ...         0.0   \n",
       "986  987    1   45  0  1    0    0    0    0    0  ...         0.0   \n",
       "987  988    2   34  1  0    1    1    0    0    1  ...         0.0   \n",
       "988  989    2   45  1  0    1    1    0    0    1  ...         0.0   \n",
       "989  990    2   35  0  1    0    0    0    0    0  ...         1.0   \n",
       "\n",
       "     S_S_S_ONLY  S_Ap_S_ONLY  S_Cog_S_ONLY  S_BTH_S_ONLY  S_E_S_ONLY  \\\n",
       "0           0.0          0.0           0.0           0.0         0.0   \n",
       "1           0.0          0.0           0.0           0.0         1.0   \n",
       "2           0.0          0.0           0.0           0.0         0.0   \n",
       "3           0.0          0.0           0.0           0.0         0.0   \n",
       "4           0.0          0.0           0.0           0.0         0.0   \n",
       "..          ...          ...           ...           ...         ...   \n",
       "985         0.0          0.0           0.0           0.0         0.0   \n",
       "986         0.0          0.0           0.0           0.0         1.0   \n",
       "987         0.0          0.0           0.0           0.0         1.0   \n",
       "988         0.0          0.0           0.0           0.0         1.0   \n",
       "989         0.0          0.0           0.0           0.0         0.0   \n",
       "\n",
       "     S_Con_S_ONLY  S_Ab_S_ONLY  S_V_S_ONLY  S_Au_S_ONLY  \n",
       "0             0.0          0.0         0.0          0.0  \n",
       "1             0.0          0.0         0.0          0.0  \n",
       "2             0.0          0.0         0.0          0.0  \n",
       "3             0.0          0.0         0.0          0.0  \n",
       "4             0.0          0.0         0.0          0.0  \n",
       "..            ...          ...         ...          ...  \n",
       "985           0.0          0.0         0.0          0.0  \n",
       "986           0.0          0.0         0.0          0.0  \n",
       "987           0.0          0.0         0.0          0.0  \n",
       "988           0.0          0.0         0.0          0.0  \n",
       "989           0.0          0.0         0.0          0.0  \n",
       "\n",
       "[990 rows x 131 columns]"
      ]
     },
     "execution_count": 2,
     "metadata": {},
     "output_type": "execute_result"
    }
   ],
   "source": [
    "# --------------------------------------------train set-----------------------------\n",
    "data_1 = pd.read_excel('path to the file ')\n",
    "data_1 = data_1[data_1[\"AGE\"] >= 18]\n",
    "data_1['F'] = ((data_1['L_F'] == 1)|(data_1['R_F'] == 1)) + 0\n",
    "data_1['T'] = ((data_1['L_T'] == 1)|(data_1['R_T'] == 1)) + 0\n",
    "data_1['P'] = ((data_1['L_P'] == 1)|(data_1['R_P'] == 1)) + 0\n",
    "data_1['O'] = ((data_1['L_O'] == 1)|(data_1['R_O'] == 1)) + 0\n",
    "data_1['I'] = ((data_1['L_I'] == 1)|(data_1['R_I'] == 1)) + 0\n",
    "data_1['CC'] = ((data_1['L_CC'] == 1)|(data_1['R_CC'] == 1)) + 0\n",
    "data_1['BG'] = ((data_1['L_BG'] == 1)|(data_1['R_BG'] == 1)) + 0\n",
    "data_1['TH'] = ((data_1['L_TH'] == 1)|(data_1['R_TH'] == 1)) + 0\n",
    "data_1['M'] = ((data_1['L_M'] == 1)|(data_1['R_M'] == 1)) + 0\n",
    "data_1['S'] = ((data_1['L_S'] == 1)|(data_1['R_S'] == 1)) + 0\n",
    "data_1['H'] = ((data_1['L_H'] == 1)|(data_1['R_H'] == 1)) + 0\n",
    "data_1['GC'] = ((data_1['L_GC'] == 1)|(data_1['R_GC'] == 1)) + 0\n",
    "data_1['BILATERAL'] = ((data_1['L'] + data_1['R']) == 2) + 0\n",
    "loco_lob = ['F', 'T', 'P', 'O', 'I', 'CC', 'BG', 'TH']\n",
    "loco_lr = ['F', 'T', 'P', 'O', 'I', 'CC', 'BG', 'TH', \n",
    "         'M', 'S', 'H', 'GC']\n",
    "loco = ['L_F', 'L_T', 'L_P', 'L_O', 'L_I', 'L_CC', 'L_BG', 'L_TH', \n",
    "      'L_M', 'L_S', 'L_H', 'L_GC',\n",
    "      'R_F', 'R_T', 'R_P', 'R_O', 'R_I', 'R_CC', 'R_BG', 'R_TH', \n",
    "      'R_M', 'R_S', 'R_H', 'R_GC'] \n",
    "loco_a = ['L_F', 'L_T', 'L_P', 'L_O', 'L_I', 'L_CC', 'L_BG', 'L_TH',\n",
    "          'L_M', 'L_S', 'L_H', 'L_GC',\n",
    "        'R_F', 'R_T', 'R_P', 'R_O', 'R_I', 'R_CC', 'R_BG', 'R_TH',\n",
    "          'R_M', 'R_S', 'R_H', 'R_GC', \n",
    "        'F', 'T', 'P', 'O', 'I', 'CC', 'BG', 'TH',\n",
    "          'M', 'S', 'H', 'GC']\n",
    "#sym\n",
    "symp_p = ['S_I_P', 'S_M_P', 'S_S_P', 'S_Ap_P', 'S_Cog_P', 'S_BTH_P', 'S_E_P',\n",
    "          'S_Con_P', 'S_Ab_P', 'S_V_P', 'S_Au_P', ]\n",
    "symp_s = ['S_I', 'S_M', 'S_S', 'S_Ap', 'S_Cog', 'S_BTH', 'S_E',\n",
    "          'S_Con', 'S_Ab', 'S_V', 'S_Au']\n",
    "symp_p_only = []\n",
    "[symp_p_only.append(sy + '_P_ONLY') for sy in symp_p]\n",
    "symp_s_only = []\n",
    "[symp_s_only.append(sy + '_S_ONLY') for sy in symp_s]\n",
    "##sym_t\n",
    "symp_t = ['S_T', 'S_ST', 'S_DT', 'S_ET', 'S_ST_RA', 'S_DT_RA', 'S_ET_RA']\n",
    "symp_st = ['S_I_DIS_T', 'S_I_FOLL_T', 'S_M_T', 'S_S_T', 'S_AP_T', 'S_COG_T', 'S_BTH_T', 'S_E_T',\n",
    "           'S_CON_T', 'S_ABD_T', 'S_V_T', 'S_AUD_T']\n",
    "symp_st_ra = []\n",
    "[symp_st_ra.append((sy_st + '_RA')) for sy_st in symp_st]\n",
    "symp_st_a = symp_st + symp_st_ra\n",
    "\n",
    "#  feature engineering\n",
    "data_1['NUM_L'] = 0\n",
    "data_1['LOCALIZED'] = 0\n",
    "data_1['S_NUM_P'] = 0\n",
    "data_1['S_NUM_S'] = 0\n",
    "data_1['S_P_ONLY'] = 0\n",
    "data_1['S_S_ONLY'] = 0\n",
    "data_1['S_I'] = data_1['S_I_P']\n",
    "data_1['S_ST_RA'] = 0\n",
    "data_1['S_DT_RA'] = 0\n",
    "data_1['S_ET_RA'] = 0\n",
    "for sy in symp_st:\n",
    "    data_1[sy + '_RA'] = 0\n",
    "for i in range(len(data_1)):\n",
    "    # num_lobs       \n",
    "    for lo in loco_lob:\n",
    "        if data_1[lo][i]>0:\n",
    "            data_1.loc[i, 'NUM_L'] += 1\n",
    "    # localized (num_l = 1)\n",
    "    if data_1.loc[i, 'NUM_L'] == 1:\n",
    "        data_1.loc[i, 'LOCALIZED'] = 1\n",
    "    # sy_t_ratio  \n",
    "    for sy in symp_st:\n",
    "        data_1.loc[i, sy+'_RA'] = data_1[sy][i] / data_1['S_T'][i]\n",
    "    #ST_RA\n",
    "    data_1.loc[i, 'S_ST_RA'] = data_1['S_ST'][i] / data_1['S_T'][i]\n",
    "    data_1.loc[i, 'S_DT_RA'] = data_1['S_DT'][i] / data_1['S_T'][i]\n",
    "    data_1.loc[i, 'S_ET_RA'] = data_1['S_ET'][i] / data_1['S_T'][i]\n",
    "    # sy_num\n",
    "    for sy_p in symp_p:\n",
    "        data_1.loc[i, 'S_NUM_P'] += data_1[sy_p][i]                \n",
    "    for sy_s in symp_s:\n",
    "        data_1.loc[i, 'S_NUM_S'] += data_1[sy_s][i]\n",
    "    # sym_only******\n",
    "    data_1.loc[i, 'S_P_ONLY'] = 1 - (data_1['S_NUM_P'][i] > 1)           \n",
    "    for sy in symp_p:\n",
    "        data_1.loc[i, sy + '_P_ONLY'] = data_1[sy][i] * data_1['S_P_ONLY'][i]\n",
    "          \n",
    "    data_1.loc[i, 'S_S_ONLY'] = 1 - (data_1['S_NUM_S'][i] > 1)              \n",
    "    for sy in symp_s:\n",
    "        data_1.loc[i, sy + '_S_ONLY'] = data_1[sy][i] * data_1['S_S_ONLY'][i]  \n",
    "data_1 = data_1.drop('S_I',axis = 1)\n",
    "data_1"
   ]
  },
  {
   "cell_type": "code",
   "execution_count": 3,
   "id": "90bde751-6dd0-42f4-b450-e573c8ba3fca",
   "metadata": {
    "tags": []
   },
   "outputs": [],
   "source": [
    "def hyperopt_xgb(params):\n",
    "    auc_i = []\n",
    "    for n in range(100):\n",
    "        x_train, x_val, y_train, y_val=train_test_split(train_data, train_label, train_size = 0.8, random_state= n, stratify= train_label)\n",
    "        clf = XGBClassifier(n_estimators = int(params['n_estimators']), max_depth = int(params['max_depth']), \n",
    "                            learning_rate = params['learning_rate'], min_child_weight = int(params['min_child_weight']),\n",
    "                            gamma = params['gamma'], subsample = params['subsample'],\n",
    "                            random_state = 123)\n",
    "        clf.fit(x_train, y_train)\n",
    "        probs = clf.predict_proba(x_val)\n",
    "        auc_n = metrics.roc_auc_score(y_val, probs[:, 1])\n",
    "        auc_i.append(auc_n)\n",
    "    auc_m = np.mean(auc_i)\n",
    "    return -auc_m \n",
    "\n",
    "def param_hyperopt(max_eval=100):\n",
    "    trials = Trials()\n",
    "    # early_stop_f = no_progress_loss(100)\n",
    "    params_best = fmin(hyperopt_xgb,\n",
    "                       space = space4xgc,\n",
    "                       max_evals = max_eval,\n",
    "                       algo =tpe.suggest,\n",
    "                       verbose = True,\n",
    "                       trials = trials)\n",
    "                       #early_stop_fn = early_stop_f)\n",
    "    print('\\n','\\n','best params:', params_best,'\\n')\n",
    "    return params_best, trials"
   ]
  },
  {
   "cell_type": "markdown",
   "id": "70a7978e-3f47-42f9-84fe-8dcab667e697",
   "metadata": {},
   "source": [
    "2 precdicting tasks"
   ]
  },
  {
   "cell_type": "markdown",
   "id": "e9f0190b-7864-4375-a015-b1f0ecfe392c",
   "metadata": {},
   "source": [
    "2.1 separating GBMs"
   ]
  },
  {
   "cell_type": "code",
   "execution_count": 4,
   "id": "24227594-dafc-47fa-9fb6-424c5eb826ed",
   "metadata": {
    "tags": []
   },
   "outputs": [],
   "source": [
    "x_1 = deepcopy(data_1)\n",
    "y_1 = x_1['GRADE']\n",
    "x_1 = x_1.drop(['P_IDH','P_TERT','P_CD','P_MGMT','GRADE',\"ID\"], axis = 1)\n",
    "y_1 = np.squeeze(np.array(y_1))\n",
    "y_1[y_1 < 4] = 0\n",
    "y_1[y_1 == 4] = 1"
   ]
  },
  {
   "cell_type": "code",
   "execution_count": 5,
   "id": "a9d34a23-a94f-488c-bc58-b997af633c98",
   "metadata": {
    "tags": []
   },
   "outputs": [],
   "source": [
    "train_data = x_1\n",
    "train_label = y_1"
   ]
  },
  {
   "cell_type": "markdown",
   "id": "69128c0b-c896-42a3-b6fc-402bdef2c79a",
   "metadata": {},
   "source": [
    "2.1.1 hyper-parameters tuning #1"
   ]
  },
  {
   "cell_type": "code",
   "execution_count": 6,
   "id": "3e07cb30-e0f4-485b-91f7-301bd6a40802",
   "metadata": {
    "tags": []
   },
   "outputs": [],
   "source": [
    "space4xgc = {\n",
    "    'learning_rate': hp.uniform('learning_rate', 0.01,0.3),   \n",
    "    'n_estimators': hp.quniform('n_estimators',50,500,25),  \n",
    "    'max_depth': hp.quniform('max_depth',1,10,1),\n",
    "    'min_child_weight':hp.quniform('min_child_weight',1,6,1),\n",
    "    'gamma': hp.uniform('gamma',0,0.6),\n",
    "    'subsample': hp.uniform('subsample',0.5,1)   \n",
    "}  "
   ]
  },
  {
   "cell_type": "code",
   "execution_count": 7,
   "id": "c1769a9c-5f6d-4c9a-a2b3-5cb0f851cca1",
   "metadata": {
    "tags": []
   },
   "outputs": [
    {
     "name": "stdout",
     "output_type": "stream",
     "text": [
      "100%|████████| 10/10 [09:10<00:00, 55.04s/trial, best loss: -0.8890197730592067]\n",
      "\n",
      " \n",
      " best params: {'gamma': 0.1661546605508867, 'learning_rate': 0.17495447949997875, 'max_depth': 3.0, 'min_child_weight': 3.0, 'n_estimators': 150.0, 'subsample': 0.8952891866184292} \n",
      "\n"
     ]
    }
   ],
   "source": [
    "params_best, trials = param_hyperopt(10)"
   ]
  },
  {
   "cell_type": "code",
   "execution_count": 8,
   "id": "1ddd5587-86bf-4dde-a81a-5979a32fe9b7",
   "metadata": {
    "tags": []
   },
   "outputs": [
    {
     "name": "stdout",
     "output_type": "stream",
     "text": [
      "100%|████████| 10/10 [08:23<00:00, 50.39s/trial, best loss: -0.9005089315807213]\n",
      "\n",
      " \n",
      " best params: {'gamma': 0.3769476768334515, 'learning_rate': 0.045097589289080545, 'max_depth': 3.0, 'min_child_weight': 4.0, 'n_estimators': 150.0, 'subsample': 0.8086473131183209} \n",
      "\n"
     ]
    }
   ],
   "source": [
    "params_best, trials = param_hyperopt(10)"
   ]
  },
  {
   "cell_type": "code",
   "execution_count": 9,
   "id": "25881f3a-f4bf-4f64-96a8-e5f3230a6bbb",
   "metadata": {
    "tags": []
   },
   "outputs": [
    {
     "name": "stdout",
     "output_type": "stream",
     "text": [
      "100%|████████| 10/10 [07:35<00:00, 45.57s/trial, best loss: -0.9019093360296595]\n",
      "\n",
      " \n",
      " best params: {'gamma': 0.5346742325587613, 'learning_rate': 0.03346495465894004, 'max_depth': 1.0, 'min_child_weight': 5.0, 'n_estimators': 425.0, 'subsample': 0.6921673929430531} \n",
      "\n"
     ]
    }
   ],
   "source": [
    "params_best, trials = param_hyperopt(10)"
   ]
  },
  {
   "cell_type": "code",
   "execution_count": 10,
   "id": "c55f8431-95a3-4253-b2a7-264a163cbde5",
   "metadata": {
    "tags": []
   },
   "outputs": [],
   "source": [
    "space4xgc = {\n",
    "    'learning_rate': hp.uniform('learning_rate', 0.01,0.1),   \n",
    "    'n_estimators': hp.quniform('n_estimators',100,500,25),  \n",
    "    'max_depth': hp.quniform('max_depth',1,4,1),\n",
    "    'min_child_weight':hp.quniform('min_child_weight',1,6,1),\n",
    "    'gamma': hp.uniform('gamma',0,0.6),\n",
    "    'subsample': hp.uniform('subsample',0.6,1)   \n",
    "}  "
   ]
  },
  {
   "cell_type": "code",
   "execution_count": 11,
   "id": "51e98653-a3dd-4c0f-afaf-ac170e300c4c",
   "metadata": {
    "tags": []
   },
   "outputs": [
    {
     "name": "stdout",
     "output_type": "stream",
     "text": [
      "100%|████| 100/100 [1:21:38<00:00, 48.98s/trial, best loss: -0.9029833726547579]\n",
      "\n",
      " \n",
      " best params: {'gamma': 0.496047986952856, 'learning_rate': 0.037795055043222656, 'max_depth': 1.0, 'min_child_weight': 5.0, 'n_estimators': 500.0, 'subsample': 0.7460511172434953} \n",
      "\n"
     ]
    }
   ],
   "source": [
    "params_best, trials = param_hyperopt(100)"
   ]
  },
  {
   "cell_type": "code",
   "execution_count": 12,
   "id": "ddae5616-4bf4-4721-b885-e26201893676",
   "metadata": {
    "tags": []
   },
   "outputs": [
    {
     "name": "stdout",
     "output_type": "stream",
     "text": [
      "100%|████| 100/100 [1:16:46<00:00, 46.06s/trial, best loss: -0.902222783956859]\n",
      "\n",
      " \n",
      " best params: {'gamma': 0.4686447266929913, 'learning_rate': 0.04613166670340646, 'max_depth': 2.0, 'min_child_weight': 4.0, 'n_estimators': 200.0, 'subsample': 0.6440900269661416} \n",
      "\n"
     ]
    }
   ],
   "source": [
    "params_best, trials = param_hyperopt(100)"
   ]
  },
  {
   "cell_type": "code",
   "execution_count": 13,
   "id": "638dc7f2-cbb4-45d1-8604-262579c0e55e",
   "metadata": {
    "tags": []
   },
   "outputs": [
    {
     "name": "stdout",
     "output_type": "stream",
     "text": [
      "100%|████| 100/100 [2:18:49<00:00, 83.30s/trial, best loss: -0.9026423997303674]\n",
      "\n",
      " \n",
      " best params: {'gamma': 0.3255986198986504, 'learning_rate': 0.07648788984235502, 'max_depth': 1.0, 'min_child_weight': 5.0, 'n_estimators': 275.0, 'subsample': 0.761400895661249} \n",
      "\n"
     ]
    }
   ],
   "source": [
    "params_best, trials = param_hyperopt(100)"
   ]
  },
  {
   "cell_type": "code",
   "execution_count": 14,
   "id": "dbecd257-88c6-4f39-b8f2-9610784c1017",
   "metadata": {
    "tags": []
   },
   "outputs": [],
   "source": [
    "space4xgc = {\n",
    "    'learning_rate': hp.uniform('learning_rate', 0.01,0.5),   \n",
    "    'n_estimators': hp.quniform('n_estimators',250,600,25),  \n",
    "    'max_depth': 1, #hp.quniform('max_depth',1,10,1),\n",
    "    'min_child_weight': hp.quniform('min_child_weight',4,7,1),\n",
    "    'gamma': hp.uniform('gamma',0.4,0.7),\n",
    "    'subsample': hp.uniform('subsample',0.7,1)   \n",
    "}  "
   ]
  },
  {
   "cell_type": "code",
   "execution_count": 15,
   "id": "d34f8074-c158-4789-9bbc-2a7151ebc826",
   "metadata": {
    "tags": []
   },
   "outputs": [
    {
     "name": "stdout",
     "output_type": "stream",
     "text": [
      "100%|████| 100/100 [1:09:56<00:00, 41.97s/trial, best loss: -0.9029833726547579]\n",
      "\n",
      " \n",
      " best params: {'gamma': 0.496047986952856, 'learning_rate': 0.037795055043222656, 'min_child_weight': 5.0, 'n_estimators': 500.0, 'subsample': 0.7460511172434953} \n",
      "\n"
     ]
    }
   ],
   "source": [
    "params_best, trials = param_hyperopt(100)"
   ]
  },
  {
   "cell_type": "code",
   "execution_count": 16,
   "id": "3c009dbd-f23b-4f33-8b6e-209915187046",
   "metadata": {
    "tags": []
   },
   "outputs": [
    {
     "name": "stdout",
     "output_type": "stream",
     "text": [
      "100%|████| 100/100 [1:12:52<00:00, 43.73s/trial, best loss: -0.9028367599146163]\n",
      "\n",
      " \n",
      " best params: {'gamma': 0.6527190548035862, 'learning_rate': 0.07856894579854146, 'min_child_weight': 6.0, 'n_estimators': 250.0, 'subsample': 0.8248093602169758} \n",
      "\n"
     ]
    }
   ],
   "source": [
    "params_best, trials = param_hyperopt(100)"
   ]
  },
  {
   "cell_type": "code",
   "execution_count": 17,
   "id": "e79fa920-853b-4145-af6a-b058508d5511",
   "metadata": {
    "tags": []
   },
   "outputs": [
    {
     "name": "stdout",
     "output_type": "stream",
     "text": [
      "100%|████| 100/100 [1:25:06<00:00, 51.07s/trial, best loss: -0.9028648466464442]\n",
      "\n",
      " \n",
      " best params: {'gamma': 0.4266384897455767, 'learning_rate': 0.03835493626905805, 'min_child_weight': 7.0, 'n_estimators': 500.0, 'subsample': 0.9400109522928501} \n",
      "\n"
     ]
    }
   ],
   "source": [
    "params_best, trials = param_hyperopt(100)"
   ]
  },
  {
   "cell_type": "code",
   "execution_count": 18,
   "id": "9223c6cf-c18a-412d-96b4-3b820c9c0fb6",
   "metadata": {
    "tags": []
   },
   "outputs": [],
   "source": [
    "space4xgc = {\n",
    "    'learning_rate': hp.uniform('learning_rate', 0.03,0.07),   \n",
    "    'n_estimators': hp.quniform('n_estimators',475,525,5),  \n",
    "    'max_depth': 1, #hp.quniform('max_depth',1,10,1),\n",
    "    'min_child_weight': 6, #hp.quniform('min_child_weight',1,6,1),\n",
    "    'gamma': hp.uniform('gamma',0.4,0.7),\n",
    "    'subsample': hp.uniform('subsample',0.8,1)   \n",
    "}  "
   ]
  },
  {
   "cell_type": "code",
   "execution_count": 19,
   "id": "4ba1cb6d-d8d1-49b3-9b31-2cf946c9286d",
   "metadata": {
    "tags": []
   },
   "outputs": [
    {
     "name": "stdout",
     "output_type": "stream",
     "text": [
      "100%|████| 100/100 [1:51:39<00:00, 66.99s/trial, best loss: -0.9031238063138973]\n",
      "\n",
      " \n",
      " best params: {'gamma': 0.6422643498766275, 'learning_rate': 0.046905106038914096, 'n_estimators': 500.0, 'subsample': 0.8895201827332386} \n",
      "\n"
     ]
    }
   ],
   "source": [
    "params_best, trials = param_hyperopt(100)"
   ]
  },
  {
   "cell_type": "code",
   "execution_count": 20,
   "id": "9aedc9d0-a47d-4bfc-98b3-6ef6ea51c62a",
   "metadata": {
    "tags": []
   },
   "outputs": [],
   "source": [
    "space4xgc = {\n",
    "    'learning_rate': hp.uniform('learning_rate', 0.03,0.07),   \n",
    "    'n_estimators': hp.quniform('n_estimators',475,525,5),  \n",
    "    'max_depth': 1, #hp.quniform('max_depth',1,10,1),\n",
    "    'min_child_weight': 6, #hp.quniform('min_child_weight',1,6,1),\n",
    "    'gamma': hp.uniform('gamma',0.4,0.7),\n",
    "    'subsample': 1#hp.uniform('subsample',0.8,1)   \n",
    "}  "
   ]
  },
  {
   "cell_type": "code",
   "execution_count": 21,
   "id": "05af8c5c-3035-47fc-a774-e82c7e5b8bb2",
   "metadata": {
    "tags": []
   },
   "outputs": [
    {
     "name": "stdout",
     "output_type": "stream",
     "text": [
      "100%|█████| 100/100 [1:40:17<00:00, 60.18s/trial, best loss: -0.9031035838669814]\n",
      "\n",
      " \n",
      " best params: {'gamma': 0.5587165700263775, 'learning_rate': 0.05347630328039607, 'n_estimators': 500.0} \n",
      "\n"
     ]
    }
   ],
   "source": [
    "params_best, trials = param_hyperopt(100)"
   ]
  },
  {
   "cell_type": "code",
   "execution_count": 22,
   "id": "47749344-061c-41aa-b41b-e4a6fda2d133",
   "metadata": {
    "tags": []
   },
   "outputs": [],
   "source": [
    "feature_set_0 = train_data.columns\n",
    "clf_0 = XGBClassifier(n_estimators = 500, max_depth = 1, learning_rate = 0.046905106038914096, min_child_weight = 6,\n",
    "                            gamma = 0.6422643498766275, subsample = 0.8895201827332386, random_state = 123)"
   ]
  },
  {
   "cell_type": "markdown",
   "id": "715e0251-998b-40ba-b353-c68fad7e8765",
   "metadata": {},
   "source": [
    "2.1.2 feature selection"
   ]
  },
  {
   "cell_type": "code",
   "execution_count": 23,
   "id": "076bbd32-8c8a-4575-8362-1731d17211ef",
   "metadata": {},
   "outputs": [
    {
     "name": "stdout",
     "output_type": "stream",
     "text": [
      "0.8\n",
      "0.7\n",
      "0.6\n",
      "0.5\n",
      "0.4\n",
      "0.3\n",
      "0.2\n",
      "mean auc in 7000HOCV_0:  0.890203425492963\n"
     ]
    }
   ],
   "source": [
    "''' 7000HOCV_0: feature_importance rank '''\n",
    "auc_0 = [] \n",
    "fea_imp_0 = []\n",
    "for r in [0.8, 0.7, 0.6, 0.5, 0.4, 0.3, 0.2]:\n",
    "    for n in range(1000):\n",
    "        x_train, x_val, y_train, y_val = train_test_split(train_data, train_label, train_size = r, random_state= n, stratify = train_label)\n",
    "        clf_0.fit(x_train, y_train)\n",
    "        # print(len(x_train))\n",
    "        fea_imp_0.append(list(clf_0.feature_importances_))\n",
    "        probs = clf_0.predict_proba(x_val)\n",
    "        auc_n = metrics.roc_auc_score(y_val, probs[:, 1])\n",
    "        auc_0.append(auc_n)\n",
    "    print(r)\n",
    "print('mean auc in 7000HOCV_0: ', np.mean(auc_0))"
   ]
  },
  {
   "cell_type": "code",
   "execution_count": 24,
   "id": "10526346-f057-4555-ac7b-ac82edfadec7",
   "metadata": {
    "tags": []
   },
   "outputs": [
    {
     "data": {
      "text/html": [
       "<div>\n",
       "<style scoped>\n",
       "    .dataframe tbody tr th:only-of-type {\n",
       "        vertical-align: middle;\n",
       "    }\n",
       "\n",
       "    .dataframe tbody tr th {\n",
       "        vertical-align: top;\n",
       "    }\n",
       "\n",
       "    .dataframe thead th {\n",
       "        text-align: right;\n",
       "    }\n",
       "</style>\n",
       "<table border=\"1\" class=\"dataframe\">\n",
       "  <thead>\n",
       "    <tr style=\"text-align: right;\">\n",
       "      <th></th>\n",
       "      <th>S_NUM_S</th>\n",
       "      <th>S_BTH_T_RA</th>\n",
       "      <th>AGE</th>\n",
       "      <th>S_E_T</th>\n",
       "      <th>S_BTH_T</th>\n",
       "      <th>S_T</th>\n",
       "      <th>F</th>\n",
       "      <th>I</th>\n",
       "      <th>S_ET_RA</th>\n",
       "      <th>S_DT</th>\n",
       "      <th>SEX</th>\n",
       "      <th>S_ET</th>\n",
       "      <th>S_ABD_T</th>\n",
       "      <th>S_DT_RA</th>\n",
       "      <th>S_ST</th>\n",
       "    </tr>\n",
       "  </thead>\n",
       "  <tbody>\n",
       "    <tr>\n",
       "      <th>count</th>\n",
       "      <td>7000.000000</td>\n",
       "      <td>7000.000000</td>\n",
       "      <td>7000.000000</td>\n",
       "      <td>7000.000000</td>\n",
       "      <td>7000.000000</td>\n",
       "      <td>7000.000000</td>\n",
       "      <td>7000.000000</td>\n",
       "      <td>7000.000000</td>\n",
       "      <td>7000.000000</td>\n",
       "      <td>7000.000000</td>\n",
       "      <td>7000.000000</td>\n",
       "      <td>7000.000000</td>\n",
       "      <td>7000.000000</td>\n",
       "      <td>7000.000000</td>\n",
       "      <td>7000.000000</td>\n",
       "    </tr>\n",
       "    <tr>\n",
       "      <th>mean</th>\n",
       "      <td>0.149396</td>\n",
       "      <td>0.148437</td>\n",
       "      <td>0.059370</td>\n",
       "      <td>0.050503</td>\n",
       "      <td>0.040706</td>\n",
       "      <td>0.035231</td>\n",
       "      <td>0.027333</td>\n",
       "      <td>0.026048</td>\n",
       "      <td>0.024756</td>\n",
       "      <td>0.018503</td>\n",
       "      <td>0.017284</td>\n",
       "      <td>0.013315</td>\n",
       "      <td>0.013009</td>\n",
       "      <td>0.011839</td>\n",
       "      <td>0.011828</td>\n",
       "    </tr>\n",
       "    <tr>\n",
       "      <th>std</th>\n",
       "      <td>0.046113</td>\n",
       "      <td>0.058571</td>\n",
       "      <td>0.014645</td>\n",
       "      <td>0.028845</td>\n",
       "      <td>0.039283</td>\n",
       "      <td>0.010500</td>\n",
       "      <td>0.010073</td>\n",
       "      <td>0.012250</td>\n",
       "      <td>0.011755</td>\n",
       "      <td>0.009603</td>\n",
       "      <td>0.005745</td>\n",
       "      <td>0.004146</td>\n",
       "      <td>0.011554</td>\n",
       "      <td>0.004829</td>\n",
       "      <td>0.005117</td>\n",
       "    </tr>\n",
       "    <tr>\n",
       "      <th>min</th>\n",
       "      <td>0.000000</td>\n",
       "      <td>0.000000</td>\n",
       "      <td>0.022179</td>\n",
       "      <td>0.000000</td>\n",
       "      <td>0.000000</td>\n",
       "      <td>0.000000</td>\n",
       "      <td>0.000000</td>\n",
       "      <td>0.000000</td>\n",
       "      <td>0.000000</td>\n",
       "      <td>0.000000</td>\n",
       "      <td>0.000000</td>\n",
       "      <td>0.000000</td>\n",
       "      <td>0.000000</td>\n",
       "      <td>0.000000</td>\n",
       "      <td>0.000000</td>\n",
       "    </tr>\n",
       "    <tr>\n",
       "      <th>25%</th>\n",
       "      <td>0.119295</td>\n",
       "      <td>0.111531</td>\n",
       "      <td>0.050484</td>\n",
       "      <td>0.029719</td>\n",
       "      <td>0.013240</td>\n",
       "      <td>0.028500</td>\n",
       "      <td>0.021370</td>\n",
       "      <td>0.020057</td>\n",
       "      <td>0.017057</td>\n",
       "      <td>0.012618</td>\n",
       "      <td>0.013812</td>\n",
       "      <td>0.010754</td>\n",
       "      <td>0.008834</td>\n",
       "      <td>0.009152</td>\n",
       "      <td>0.008763</td>\n",
       "    </tr>\n",
       "    <tr>\n",
       "      <th>50%</th>\n",
       "      <td>0.146773</td>\n",
       "      <td>0.153922</td>\n",
       "      <td>0.056867</td>\n",
       "      <td>0.047900</td>\n",
       "      <td>0.024707</td>\n",
       "      <td>0.034490</td>\n",
       "      <td>0.025883</td>\n",
       "      <td>0.023801</td>\n",
       "      <td>0.022242</td>\n",
       "      <td>0.015925</td>\n",
       "      <td>0.016195</td>\n",
       "      <td>0.012643</td>\n",
       "      <td>0.011238</td>\n",
       "      <td>0.010856</td>\n",
       "      <td>0.010567</td>\n",
       "    </tr>\n",
       "    <tr>\n",
       "      <th>75%</th>\n",
       "      <td>0.178626</td>\n",
       "      <td>0.191496</td>\n",
       "      <td>0.064696</td>\n",
       "      <td>0.066821</td>\n",
       "      <td>0.055426</td>\n",
       "      <td>0.040519</td>\n",
       "      <td>0.031370</td>\n",
       "      <td>0.028177</td>\n",
       "      <td>0.028958</td>\n",
       "      <td>0.021441</td>\n",
       "      <td>0.019467</td>\n",
       "      <td>0.015044</td>\n",
       "      <td>0.014569</td>\n",
       "      <td>0.013374</td>\n",
       "      <td>0.013691</td>\n",
       "    </tr>\n",
       "    <tr>\n",
       "      <th>max</th>\n",
       "      <td>0.338440</td>\n",
       "      <td>0.368119</td>\n",
       "      <td>0.168841</td>\n",
       "      <td>0.237773</td>\n",
       "      <td>0.335792</td>\n",
       "      <td>0.115012</td>\n",
       "      <td>0.100463</td>\n",
       "      <td>0.156574</td>\n",
       "      <td>0.140852</td>\n",
       "      <td>0.117455</td>\n",
       "      <td>0.057375</td>\n",
       "      <td>0.114479</td>\n",
       "      <td>0.247700</td>\n",
       "      <td>0.066003</td>\n",
       "      <td>0.088448</td>\n",
       "    </tr>\n",
       "  </tbody>\n",
       "</table>\n",
       "</div>"
      ],
      "text/plain": [
       "        S_ NUM_S       S_BTH_T_RA      AGE        S_E_T      S_BTH_T  \\\n",
       "count  7000.000000  7000.000000  7000.000000  7000.000000  7000.000000   \n",
       "mean     0.149396     0.148437     0.059370     0.050503     0.040706   \n",
       "std       0.046113     0.058571     0.014645     0.028845     0.039283   \n",
       "min       0.000000     0.000000     0.022179     0.000000     0.000000   \n",
       "25%       0.119295     0.111531     0.050484     0.029719     0.013240   \n",
       "50%       0.146773     0.153922     0.056867     0.047900     0.024707   \n",
       "75%       0.178626     0.191496     0.064696     0.066821     0.055426   \n",
       "max       0.338440     0.368119     0.168841     0.237773     0.335792   \n",
       "\n",
       "               S_T            F            I      S_ET_RA         S_DT  \\\n",
       "count  7000.000000  7000.000000  7000.000000  7000.000000  7000.000000   \n",
       "mean      0.035231     0.027333     0.026048     0.024756     0.018503   \n",
       "std       0.010500     0.010073     0.012250     0.011755     0.009603   \n",
       "min       0.000000     0.000000     0.000000     0.000000     0.000000   \n",
       "25%       0.028500     0.021370     0.020057     0.017057     0.012618   \n",
       "50%       0.034490     0.025883     0.023801     0.022242     0.015925   \n",
       "75%       0.040519     0.031370     0.028177     0.028958     0.021441   \n",
       "max       0.115012     0.100463     0.156574     0.140852     0.117455   \n",
       "\n",
       "               SEX         S_ET      S_ABD_T      S_DT_RA         S_ST  \n",
       "count  7000.000000  7000.000000  7000.000000  7000.000000  7000.000000  \n",
       "mean      0.017284     0.013315     0.013009     0.011839     0.011828  \n",
       "std       0.005745     0.004146     0.011554     0.004829     0.005117  \n",
       "min       0.000000     0.000000     0.000000     0.000000     0.000000  \n",
       "25%       0.013812     0.010754     0.008834     0.009152     0.008763  \n",
       "50%       0.016195     0.012643     0.011238     0.010856     0.010567  \n",
       "75%       0.019467     0.015044     0.014569     0.013374     0.013691  \n",
       "max       0.057375     0.114479     0.247700     0.066003     0.088448  "
      ]
     },
     "execution_count": 24,
     "metadata": {},
     "output_type": "execute_result"
    }
   ],
   "source": [
    "fea_imp_0 = pd.DataFrame(fea_imp_0)\n",
    "fea_imp_0.columns = feature_set_0\n",
    "\n",
    "d_fi_0 = fea_imp_0.describe()\n",
    "d_fi_0 = d_fi_0.sort_values(by = 'mean', axis = 1, ascending = False)\n",
    "fea_set_0_1 = d_fi_0.columns # features ranked in descending order by the mean value of feature importances in the 7000 procedures.\n",
    "\n",
    "fea_imp_1 = fea_imp_0[fea_set_0_1]\n",
    "fea_imp_1 = [fea_imp_1 > 0]\n",
    "fea_imp_1 = fea_imp_1[0]\n",
    "fea_imp_1 += 0\n",
    "# fea_imp_1 : procedures in which features gained importance\n",
    "\n",
    "d_fea_imp_1 = fea_imp_1.describe()\n",
    "feature_set_0_1 = fea_set_0_1[d_fea_imp_1.loc['mean', :] > 0.85] # features gained importance in more than 85% of the 7000 procedures\n",
    "\n",
    "d_fi_0[feature_set_0_1] "
   ]
  },
  {
   "cell_type": "code",
   "execution_count": 25,
   "id": "b4afd883-c089-48cb-a47e-c4c3f3cb50d7",
   "metadata": {
    "tags": []
   },
   "outputs": [
    {
     "name": "stdout",
     "output_type": "stream",
     "text": [
      "0.8\n",
      "0.7\n",
      "0.6\n",
      "0.5\n",
      "0.4\n",
      "0.3\n",
      "0.2\n",
      "i =  2 \n",
      "test_feas: Index(['S_NUM_S', 'S_BTH_T_RA'], dtype='object') \n",
      "auc_m =  0.7863852340817477\n",
      "0.8\n",
      "0.7\n",
      "0.6\n",
      "0.5\n",
      "0.4\n",
      "0.3\n",
      "0.2\n",
      "i =  3 \n",
      "test_feas: Index(['S_NUM_S', 'S_BTH_T_RA', 'AGE'], dtype='object') \n",
      "auc_m =  0.8579622910251392\n",
      "0.8\n",
      "0.7\n",
      "0.6\n",
      "0.5\n",
      "0.4\n",
      "0.3\n",
      "0.2\n",
      "i =  4 \n",
      "test_feas: Index(['S_NUM_S', 'S_BTH_T_RA', 'AGE', 'S_E_T'], dtype='object') \n",
      "auc_m =  0.8610177413142968\n",
      "0.8\n",
      "0.7\n",
      "0.6\n",
      "0.5\n",
      "0.4\n",
      "0.3\n",
      "0.2\n",
      "i =  5 \n",
      "test_feas: Index(['S_NUM_S', 'S_BTH_T_RA', 'AGE', 'S_E_T', 'S_BTH_T'], dtype='object') \n",
      "auc_m =  0.864933654674168\n",
      "0.8\n",
      "0.7\n",
      "0.6\n",
      "0.5\n",
      "0.4\n",
      "0.3\n",
      "0.2\n",
      "i =  6 \n",
      "test_feas: Index(['S_NUM_S', 'S_BTH_T_RA', 'AGE', 'S_E_T', 'S_BTH_T', 'S_T'], dtype='object') \n",
      "auc_m =  0.8693048192947748\n",
      "0.8\n",
      "0.7\n",
      "0.6\n",
      "0.5\n",
      "0.4\n",
      "0.3\n",
      "0.2\n",
      "i =  7 \n",
      "test_feas: Index(['S_NUM_S', 'S_BTH_T_RA', 'AGE', 'S_E_T', 'S_BTH_T', 'S_T', 'F'], dtype='object') \n",
      "auc_m =  0.8745669492880458\n",
      "0.8\n",
      "0.7\n",
      "0.6\n",
      "0.5\n",
      "0.4\n",
      "0.3\n",
      "0.2\n",
      "i =  8 \n",
      "test_feas: Index(['S_NUM_S', 'S_BTH_T_RA', 'AGE', 'S_E_T', 'S_BTH_T', 'S_T', 'F', 'I'], dtype='object') \n",
      "auc_m =  0.8813603918683424\n",
      "0.8\n",
      "0.7\n",
      "0.6\n",
      "0.5\n",
      "0.4\n",
      "0.3\n",
      "0.2\n",
      "i =  9 \n",
      "test_feas: Index(['S_NUM_S', 'S_BTH_T_RA', 'AGE', 'S_E_T', 'S_BTH_T', 'S_T', 'F', 'I',\n",
      "       'S_ET_RA'],\n",
      "      dtype='object') \n",
      "auc_m =  0.8823674521594361\n",
      "0.8\n",
      "0.7\n",
      "0.6\n",
      "0.5\n",
      "0.4\n",
      "0.3\n",
      "0.2\n",
      "i =  10 \n",
      "test_feas: Index(['S_NUM_S', 'S_BTH_T_RA', 'AGE', 'S_E_T', 'S_BTH_T', 'S_T', 'F', 'I',\n",
      "       'S_ET_RA', 'S_DT'],\n",
      "      dtype='object') \n",
      "auc_m =  0.8814518779711444\n",
      "0.8\n",
      "0.7\n",
      "0.6\n",
      "0.5\n",
      "0.4\n",
      "0.3\n",
      "0.2\n",
      "i =  11 \n",
      "test_feas: Index(['S_NUM_S', 'S_BTH_T_RA', 'AGE', 'S_E_T', 'S_BTH_T', 'S_T', 'F', 'I',\n",
      "       'S_ET_RA', 'S_DT', 'SEX'],\n",
      "      dtype='object') \n",
      "auc_m =  0.8856999505047463\n",
      "0.8\n",
      "0.7\n",
      "0.6\n",
      "0.5\n",
      "0.4\n",
      "0.3\n",
      "0.2\n",
      "i =  12 \n",
      "test_feas: Index(['S_NUM_S', 'S_BTH_T_RA', 'AGE', 'S_E_T', 'S_BTH_T', 'S_T', 'F', 'I',\n",
      "       'S_ET_RA', 'S_DT', 'SEX', 'S_ET'],\n",
      "      dtype='object') \n",
      "auc_m =  0.886651464878821\n",
      "0.8\n",
      "0.7\n",
      "0.6\n",
      "0.5\n",
      "0.4\n",
      "0.3\n",
      "0.2\n",
      "i =  13 \n",
      "test_feas: Index(['S_NUM_S', 'S_BTH_T_RA', 'AGE', 'S_E_T', 'S_BTH_T', 'S_T', 'F', 'I',\n",
      "       'S_ET_RA', 'S_DT', 'SEX', 'S_ET', 'S_ABD_T'],\n",
      "      dtype='object') \n",
      "auc_m =  0.8863686097599678\n",
      "0.8\n",
      "0.7\n",
      "0.6\n",
      "0.5\n",
      "0.4\n",
      "0.3\n",
      "0.2\n",
      "i =  14 \n",
      "test_feas: Index(['S_NUM_S', 'S_BTH_T_RA', 'AGE', 'S_E_T', 'S_BTH_T', 'S_T', 'F', 'I',\n",
      "       'S_ET_RA', 'S_DT', 'SEX', 'S_ET', 'S_ABD_T', 'S_DT_RA'],\n",
      "      dtype='object') \n",
      "auc_m =  0.8859584258924229\n"
     ]
    }
   ],
   "source": [
    "''' 7000HOCV_1*10: feature_importance rank '''\n",
    "fea_set_0_2 = deepcopy(feature_set_0_1)\n",
    "auc_mean_1_1 = [] \n",
    "for i in range(13):\n",
    "    i += 2\n",
    "    test_feas = fea_set_0_2[:i]\n",
    "    auc_i = []\n",
    "    for r in [0.8, 0.7, 0.6, 0.5, 0.4, 0.3, 0.2]:\n",
    "        for n in range(1000):\n",
    "            x_train, x_val, y_train, y_val = train_test_split(train_data[test_feas], train_label, train_size = r, random_state= n, stratify = train_label)\n",
    "            clf_0.fit(x_train, y_train)\n",
    "            probs = clf_0.predict_proba(x_val)\n",
    "            auc_n = metrics.roc_auc_score(y_val, probs[:, 1])\n",
    "            auc_i.append(auc_n)\n",
    "        print(r)\n",
    "    auc_mean_1_1.append(np.mean(auc_i)) \n",
    "    print('i = ', i, '\\ntest_feas:', test_feas, '\\nauc_m = ', np.mean(auc_i))\n"
   ]
  },
  {
   "cell_type": "code",
   "execution_count": 26,
   "id": "53f3ff1a-a380-4503-8b23-baffb6c2a98e",
   "metadata": {
    "tags": []
   },
   "outputs": [
    {
     "name": "stdout",
     "output_type": "stream",
     "text": [
      "0.8\n",
      "0.7\n",
      "0.6\n",
      "0.5\n",
      "0.4\n",
      "0.3\n",
      "0.2\n",
      "ntest_feas: Index(['S_NUM_S', 'S_BTH_T_RA', 'AGE', 'S_E_T', 'S_BTH_T', 'S_T', 'F', 'I',\n",
      "       'S_ET_RA', 'S_DT', 'SEX', 'S_ET', 'S_ABD_T', 'S_DT_RA', 'S_ST'],\n",
      "      dtype='object') \n",
      "auc_m =  0.8891414129155955\n",
      "0.8\n",
      "0.7\n",
      "0.6\n",
      "0.5\n",
      "0.4\n",
      "0.3\n",
      "0.2\n",
      "i =  0 \n",
      "test_feas: Index(['S_NUM_S', 'S_BTH_T_RA', 'AGE', 'S_E_T', 'S_BTH_T', 'S_T', 'F', 'I',\n",
      "       'S_ET_RA', 'S_DT', 'SEX', 'S_ET', 'S_ABD_T', 'S_DT_RA', 'S_ST'],\n",
      "      dtype='object') \n",
      "auc_m =  0.8891414129155955\n",
      "0.8\n",
      "0.7\n",
      "0.6\n",
      "0.5\n",
      "0.4\n",
      "0.3\n",
      "0.2\n",
      "i =  1 \n",
      "test_feas: Index(['S_BTH_T_RA', 'AGE', 'S_E_T', 'S_BTH_T', 'S_T', 'F', 'I', 'S_ET_RA',\n",
      "       'S_DT', 'SEX', 'S_ET', 'S_ABD_T', 'S_DT_RA', 'S_ST'],\n",
      "      dtype='object') \n",
      "auc_m =  0.8835183593244517\n"
     ]
    },
    {
     "ename": "TypeError",
     "evalue": "'builtin_function_or_method' object is not subscriptable",
     "output_type": "error",
     "traceback": [
      "\u001b[0;31m---------------------------------------------------------------------------\u001b[0m",
      "\u001b[0;31mTypeError\u001b[0m                                 Traceback (most recent call last)",
      "Cell \u001b[0;32mIn [26], line 29\u001b[0m\n\u001b[1;32m     26\u001b[0m     \u001b[38;5;28mprint\u001b[39m(\u001b[38;5;124m'\u001b[39m\u001b[38;5;124mi = \u001b[39m\u001b[38;5;124m'\u001b[39m, i, \u001b[38;5;124m'\u001b[39m\u001b[38;5;130;01m\\n\u001b[39;00m\u001b[38;5;124mtest_feas:\u001b[39m\u001b[38;5;124m'\u001b[39m, test_feas, \u001b[38;5;124m'\u001b[39m\u001b[38;5;130;01m\\n\u001b[39;00m\u001b[38;5;124mauc_m = \u001b[39m\u001b[38;5;124m'\u001b[39m, np\u001b[38;5;241m.\u001b[39mmean(auc_i))\n\u001b[1;32m     28\u001b[0m idx_1 \u001b[38;5;241m=\u001b[39m \u001b[38;5;28mlist\u001b[39m(\u001b[38;5;28mrange\u001b[39m(\u001b[38;5;241m15\u001b[39m))\n\u001b[0;32m---> 29\u001b[0m idx_1\u001b[38;5;241m.\u001b[39mremove[\u001b[38;5;241m1\u001b[39m]\n\u001b[1;32m     30\u001b[0m test_feas \u001b[38;5;241m=\u001b[39m fea_set_0_2[idx_1]\n\u001b[1;32m     31\u001b[0m auc_i \u001b[38;5;241m=\u001b[39m []\n",
      "\u001b[0;31mTypeError\u001b[0m: 'builtin_function_or_method' object is not subscriptable"
     ]
    }
   ],
   "source": [
    "test_feas = fea_set_0_2\n",
    "auc_i = []\n",
    "for r in [0.8, 0.7, 0.6, 0.5, 0.4, 0.3, 0.2]:\n",
    "    for n in range(1000):\n",
    "        x_train, x_val, y_train, y_val = train_test_split(train_data[test_feas], train_label, train_size = r, random_state= n, stratify = train_label)\n",
    "        clf_0.fit(x_train, y_train)\n",
    "        probs = clf_0.predict_proba(x_val)\n",
    "        auc_n = metrics.roc_auc_score(y_val, probs[:, 1])\n",
    "        auc_i.append(auc_n)\n",
    "    print(r)\n",
    "auc_mean_1_1.append(np.mean(auc_i)) \n",
    "print('ntest_feas:', test_feas, '\\nauc_m = ', np.mean(auc_i))\n",
    "\n",
    "for i in range(2):\n",
    "    test_feas = fea_set_0_2[i:]\n",
    "    auc_i = []\n",
    "    for r in [0.8, 0.7, 0.6, 0.5, 0.4, 0.3, 0.2]:\n",
    "        for n in range(1000):\n",
    "            x_train, x_val, y_train, y_val = train_test_split(train_data[test_feas], train_label, train_size = r, random_state= n, stratify = train_label)\n",
    "            clf_0.fit(x_train, y_train)\n",
    "            probs = clf_0.predict_proba(x_val)\n",
    "            auc_n = metrics.roc_auc_score(y_val, probs[:, 1])\n",
    "            auc_i.append(auc_n)\n",
    "        print(r)\n",
    "    auc_mean_1_1.append(np.mean(auc_i)) \n",
    "    print('i = ', i, '\\ntest_feas:', test_feas, '\\nauc_m = ', np.mean(auc_i))\n",
    "\n",
    "idx_1 = list(range(15))\n",
    "idx_1.remove[1]\n",
    "test_feas = fea_set_0_2[idx_1]\n",
    "auc_i = []\n",
    "for r in [0.8, 0.7, 0.6, 0.5, 0.4, 0.3, 0.2]:\n",
    "    for n in range(1000):\n",
    "        x_train, x_val, y_train, y_val = train_test_split(train_data[test_feas], train_label, train_size = r, random_state= n, stratify = train_label)\n",
    "        clf_0.fit(x_train, y_train)\n",
    "        probs = clf_0.predict_proba(x_val)\n",
    "        auc_n = metrics.roc_auc_score(y_val, probs[:, 1])\n",
    "        auc_i.append(auc_n)\n",
    "    print(r)\n",
    "auc_mean_1_1.append(np.mean(auc_i)) \n",
    "print('test_feas:', test_feas, '\\nauc_m = ', np.mean(auc_i))"
   ]
  },
  {
   "cell_type": "code",
   "execution_count": 27,
   "id": "7d53d296-6043-4ef4-9cf2-3ca9f9fcb73e",
   "metadata": {
    "tags": []
   },
   "outputs": [
    {
     "name": "stdout",
     "output_type": "stream",
     "text": [
      "0.8\n",
      "0.7\n",
      "0.6\n",
      "0.5\n",
      "0.4\n",
      "0.3\n",
      "0.2\n",
      "test_feas: Index(['AGE', 'S_E_T', 'S_BTH_T', 'S_T', 'F', 'I', 'S_ET_RA', 'S_DT', 'SEX',\n",
      "       'S_ET', 'S_ABD_T', 'S_DT_RA', 'S_ST'],\n",
      "      dtype='object') \n",
      "auc_m =  0.8845504360121276\n",
      "0.8\n",
      "0.7\n",
      "0.6\n",
      "0.5\n",
      "0.4\n",
      "0.3\n",
      "0.2\n",
      "test_feas: Index(['S_NUM_S', 'AGE', 'S_E_T', 'S_BTH_T', 'S_T', 'F', 'I', 'S_ET_RA',\n",
      "       'S_DT', 'SEX', 'S_ET', 'S_ABD_T', 'S_DT_RA', 'S_ST'],\n",
      "      dtype='object') \n",
      "auc_m =  0.8896686747781974\n",
      "auc_mean_list: [0.7863852340817477, 0.8579622910251392, 0.8610177413142968, 0.864933654674168, 0.8693048192947748, 0.8745669492880458, 0.8813603918683424, 0.8823674521594361, 0.8814518779711444, 0.8856999505047463, 0.886651464878821, 0.8863686097599678, 0.8859584258924229, 0.8891414129155955, 0.8835183593244517, 0.8845504360121276, 0.8896686747781974]\n"
     ]
    }
   ],
   "source": [
    "auc_mean_1_1.remove(auc_mean_1_1[-2]) #duplicated result of  'S_BTH_T_RA', 'S_NUM_S', 'AGE', 'S_E_T', 'S_BTH_T', 'S_T', 'F', 'I','S_ET_RA', 'S_DT', 'SEX', 'S_ET', 'S_ABD_T', 'S_DT_RA', 'S_ST'\n",
    "test_feas = fea_set_0_2[2:]\n",
    "auc_i = []\n",
    "for r in [0.8, 0.7, 0.6, 0.5, 0.4, 0.3, 0.2]:\n",
    "    for n in range(1000):\n",
    "        x_train, x_val, y_train, y_val = train_test_split(train_data[test_feas], train_label, train_size = r, random_state= n, stratify = train_label)\n",
    "        clf_0.fit(x_train, y_train)\n",
    "        probs = clf_0.predict_proba(x_val)\n",
    "        auc_n = metrics.roc_auc_score(y_val, probs[:, 1])\n",
    "        auc_i.append(auc_n)\n",
    "    print(r)\n",
    "auc_mean_1_1.append(np.mean(auc_i)) \n",
    "print('test_feas:', test_feas, '\\nauc_m = ', np.mean(auc_i))\n",
    "\n",
    "idx_1 = list(range(15))\n",
    "idx_1.remove(1)\n",
    "test_feas = fea_set_0_2[idx_1]\n",
    "auc_i = []\n",
    "for r in [0.8, 0.7, 0.6, 0.5, 0.4, 0.3, 0.2]:\n",
    "    for n in range(1000):\n",
    "        x_train, x_val, y_train, y_val = train_test_split(train_data[test_feas], train_label, train_size = r, random_state= n, stratify = train_label)\n",
    "        clf_0.fit(x_train, y_train)\n",
    "        probs = clf_0.predict_proba(x_val)\n",
    "        auc_n = metrics.roc_auc_score(y_val, probs[:, 1])\n",
    "        auc_i.append(auc_n)\n",
    "    print(r)\n",
    "auc_mean_1_1.append(np.mean(auc_i)) \n",
    "print('test_feas:', test_feas, '\\nauc_m = ', np.mean(auc_i))\n",
    "print('auc_mean_list:', auc_mean_1_1)"
   ]
  },
  {
   "cell_type": "code",
   "execution_count": 28,
   "id": "e7e4271d-9368-48a9-9713-2ad059e38048",
   "metadata": {
    "tags": []
   },
   "outputs": [
    {
     "name": "stdout",
     "output_type": "stream",
     "text": [
      "0.8\n",
      "0.7\n",
      "0.6\n",
      "0.5\n",
      "0.4\n",
      "0.3\n",
      "0.2\n",
      "test_feas: ['S_NUM_S', 'AGE', 'S_E_T', 'S_BTH_T', 'S_T', 'F', 'I', 'S_ET_RA', 'SEX', 'S_ET', 'S_ST'] \n",
      "auc_m =  0.89120162075546\n",
      "0.8\n",
      "0.7\n",
      "0.6\n",
      "0.5\n",
      "0.4\n",
      "0.3\n",
      "0.2\n",
      "test_feas: ['S_NUM_S', 'AGE', 'S_E_T', 'S_BTH_T', 'S_T', 'F', 'I', 'S_ET_RA', 'SEX', 'S_ET', 'S_ST', 'S_BTH_T_RA'] \n",
      "auc_m =  0.8905891929692805\n"
     ]
    },
    {
     "ename": "KeyError",
     "evalue": "\"['S_STS_DT'] not in index\"",
     "output_type": "error",
     "traceback": [
      "\u001b[0;31m---------------------------------------------------------------------------\u001b[0m",
      "\u001b[0;31mKeyError\u001b[0m                                  Traceback (most recent call last)",
      "Cell \u001b[0;32mIn [28], line 35\u001b[0m\n\u001b[1;32m     33\u001b[0m \u001b[38;5;28;01mfor\u001b[39;00m r \u001b[38;5;129;01min\u001b[39;00m [\u001b[38;5;241m0.8\u001b[39m, \u001b[38;5;241m0.7\u001b[39m, \u001b[38;5;241m0.6\u001b[39m, \u001b[38;5;241m0.5\u001b[39m, \u001b[38;5;241m0.4\u001b[39m, \u001b[38;5;241m0.3\u001b[39m, \u001b[38;5;241m0.2\u001b[39m]:\n\u001b[1;32m     34\u001b[0m     \u001b[38;5;28;01mfor\u001b[39;00m n \u001b[38;5;129;01min\u001b[39;00m \u001b[38;5;28mrange\u001b[39m(\u001b[38;5;241m1000\u001b[39m):\n\u001b[0;32m---> 35\u001b[0m         x_train, x_val, y_train, y_val \u001b[38;5;241m=\u001b[39m train_test_split(train_data[test_feas], train_label, train_size \u001b[38;5;241m=\u001b[39m r, random_state\u001b[38;5;241m=\u001b[39m n, stratify \u001b[38;5;241m=\u001b[39m train_label)\n\u001b[1;32m     36\u001b[0m         clf_0\u001b[38;5;241m.\u001b[39mfit(x_train, y_train)\n\u001b[1;32m     37\u001b[0m         probs \u001b[38;5;241m=\u001b[39m clf_0\u001b[38;5;241m.\u001b[39mpredict_proba(x_val)\n",
      "File \u001b[0;32m~/.local/lib/python3.9/site-packages/pandas/core/frame.py:3464\u001b[0m, in \u001b[0;36mDataFrame.__getitem__\u001b[0;34m(self, key)\u001b[0m\n\u001b[1;32m   3462\u001b[0m     \u001b[38;5;28;01mif\u001b[39;00m is_iterator(key):\n\u001b[1;32m   3463\u001b[0m         key \u001b[38;5;241m=\u001b[39m \u001b[38;5;28mlist\u001b[39m(key)\n\u001b[0;32m-> 3464\u001b[0m     indexer \u001b[38;5;241m=\u001b[39m \u001b[38;5;28;43mself\u001b[39;49m\u001b[38;5;241;43m.\u001b[39;49m\u001b[43mloc\u001b[49m\u001b[38;5;241;43m.\u001b[39;49m\u001b[43m_get_listlike_indexer\u001b[49m\u001b[43m(\u001b[49m\u001b[43mkey\u001b[49m\u001b[43m,\u001b[49m\u001b[43m \u001b[49m\u001b[43maxis\u001b[49m\u001b[38;5;241;43m=\u001b[39;49m\u001b[38;5;241;43m1\u001b[39;49m\u001b[43m)\u001b[49m[\u001b[38;5;241m1\u001b[39m]\n\u001b[1;32m   3466\u001b[0m \u001b[38;5;66;03m# take() does not accept boolean indexers\u001b[39;00m\n\u001b[1;32m   3467\u001b[0m \u001b[38;5;28;01mif\u001b[39;00m \u001b[38;5;28mgetattr\u001b[39m(indexer, \u001b[38;5;124m\"\u001b[39m\u001b[38;5;124mdtype\u001b[39m\u001b[38;5;124m\"\u001b[39m, \u001b[38;5;28;01mNone\u001b[39;00m) \u001b[38;5;241m==\u001b[39m \u001b[38;5;28mbool\u001b[39m:\n",
      "File \u001b[0;32m~/.local/lib/python3.9/site-packages/pandas/core/indexing.py:1314\u001b[0m, in \u001b[0;36m_LocIndexer._get_listlike_indexer\u001b[0;34m(self, key, axis)\u001b[0m\n\u001b[1;32m   1311\u001b[0m \u001b[38;5;28;01melse\u001b[39;00m:\n\u001b[1;32m   1312\u001b[0m     keyarr, indexer, new_indexer \u001b[38;5;241m=\u001b[39m ax\u001b[38;5;241m.\u001b[39m_reindex_non_unique(keyarr)\n\u001b[0;32m-> 1314\u001b[0m \u001b[38;5;28;43mself\u001b[39;49m\u001b[38;5;241;43m.\u001b[39;49m\u001b[43m_validate_read_indexer\u001b[49m\u001b[43m(\u001b[49m\u001b[43mkeyarr\u001b[49m\u001b[43m,\u001b[49m\u001b[43m \u001b[49m\u001b[43mindexer\u001b[49m\u001b[43m,\u001b[49m\u001b[43m \u001b[49m\u001b[43maxis\u001b[49m\u001b[43m)\u001b[49m\n\u001b[1;32m   1316\u001b[0m \u001b[38;5;28;01mif\u001b[39;00m needs_i8_conversion(ax\u001b[38;5;241m.\u001b[39mdtype) \u001b[38;5;129;01mor\u001b[39;00m \u001b[38;5;28misinstance\u001b[39m(\n\u001b[1;32m   1317\u001b[0m     ax, (IntervalIndex, CategoricalIndex)\n\u001b[1;32m   1318\u001b[0m ):\n\u001b[1;32m   1319\u001b[0m     \u001b[38;5;66;03m# For CategoricalIndex take instead of reindex to preserve dtype.\u001b[39;00m\n\u001b[1;32m   1320\u001b[0m     \u001b[38;5;66;03m#  For IntervalIndex this is to map integers to the Intervals they match to.\u001b[39;00m\n\u001b[1;32m   1321\u001b[0m     keyarr \u001b[38;5;241m=\u001b[39m ax\u001b[38;5;241m.\u001b[39mtake(indexer)\n",
      "File \u001b[0;32m~/.local/lib/python3.9/site-packages/pandas/core/indexing.py:1377\u001b[0m, in \u001b[0;36m_LocIndexer._validate_read_indexer\u001b[0;34m(self, key, indexer, axis)\u001b[0m\n\u001b[1;32m   1374\u001b[0m     \u001b[38;5;28;01mraise\u001b[39;00m \u001b[38;5;167;01mKeyError\u001b[39;00m(\u001b[38;5;124mf\u001b[39m\u001b[38;5;124m\"\u001b[39m\u001b[38;5;124mNone of [\u001b[39m\u001b[38;5;132;01m{\u001b[39;00mkey\u001b[38;5;132;01m}\u001b[39;00m\u001b[38;5;124m] are in the [\u001b[39m\u001b[38;5;132;01m{\u001b[39;00maxis_name\u001b[38;5;132;01m}\u001b[39;00m\u001b[38;5;124m]\u001b[39m\u001b[38;5;124m\"\u001b[39m)\n\u001b[1;32m   1376\u001b[0m not_found \u001b[38;5;241m=\u001b[39m \u001b[38;5;28mlist\u001b[39m(ensure_index(key)[missing_mask\u001b[38;5;241m.\u001b[39mnonzero()[\u001b[38;5;241m0\u001b[39m]]\u001b[38;5;241m.\u001b[39munique())\n\u001b[0;32m-> 1377\u001b[0m \u001b[38;5;28;01mraise\u001b[39;00m \u001b[38;5;167;01mKeyError\u001b[39;00m(\u001b[38;5;124mf\u001b[39m\u001b[38;5;124m\"\u001b[39m\u001b[38;5;132;01m{\u001b[39;00mnot_found\u001b[38;5;132;01m}\u001b[39;00m\u001b[38;5;124m not in index\u001b[39m\u001b[38;5;124m\"\u001b[39m)\n",
      "\u001b[0;31mKeyError\u001b[0m: \"['S_STS_DT'] not in index\""
     ]
    }
   ],
   "source": [
    "test_feas = ['S_NUM_S', 'AGE', 'S_E_T', 'S_BTH_T', 'S_T', 'F', 'I', 'S_ET_RA', 'SEX', 'S_ET', 'S_ST']\n",
    "auc_i = []\n",
    "for r in [0.8, 0.7, 0.6, 0.5, 0.4, 0.3, 0.2]:\n",
    "    for n in range(1000):\n",
    "        x_train, x_val, y_train, y_val = train_test_split(train_data[test_feas], train_label, train_size = r, random_state= n, stratify = train_label)\n",
    "        clf_0.fit(x_train, y_train)\n",
    "        probs = clf_0.predict_proba(x_val)\n",
    "        auc_n = metrics.roc_auc_score(y_val, probs[:, 1])\n",
    "        auc_i.append(auc_n)\n",
    "    print(r)\n",
    "auc_mean_1_1.append(np.mean(auc_i)) \n",
    "print('test_feas:', test_feas, '\\nauc_m = ', np.mean(auc_i))\n",
    "\n",
    "\n",
    "test_feas = ['S_NUM_S', 'AGE', 'S_E_T', 'S_BTH_T', 'S_T', 'F', 'I', 'S_ET_RA', 'SEX', 'S_ET', 'S_ST',\n",
    "            'S_BTH_T_RA']\n",
    "auc_i = []\n",
    "for r in [0.8, 0.7, 0.6, 0.5, 0.4, 0.3, 0.2]:\n",
    "    for n in range(1000):\n",
    "        x_train, x_val, y_train, y_val = train_test_split(train_data[test_feas], train_label, train_size = r, random_state= n, stratify = train_label)\n",
    "        clf_0.fit(x_train, y_train)\n",
    "        probs = clf_0.predict_proba(x_val)\n",
    "        auc_n = metrics.roc_auc_score(y_val, probs[:, 1])\n",
    "        auc_i.append(auc_n)\n",
    "    print(r)\n",
    "auc_mean_1_1.append(np.mean(auc_i)) \n",
    "print('test_feas:', test_feas, '\\nauc_m = ', np.mean(auc_i))\n",
    "\n",
    "test_feas = ['S_NUM_S', 'AGE', 'S_E_T', 'S_BTH_T', 'S_T', 'F', 'I', 'S_ET_RA', 'SEX', 'S_ET', 'S_ST'\n",
    "            'S_DT']\n",
    "\n",
    "auc_i = []\n",
    "for r in [0.8, 0.7, 0.6, 0.5, 0.4, 0.3, 0.2]:\n",
    "    for n in range(1000):\n",
    "        x_train, x_val, y_train, y_val = train_test_split(train_data[test_feas], train_label, train_size = r, random_state= n, stratify = train_label)\n",
    "        clf_0.fit(x_train, y_train)\n",
    "        probs = clf_0.predict_proba(x_val)\n",
    "        auc_n = metrics.roc_auc_score(y_val, probs[:, 1])\n",
    "        auc_i.append(auc_n)\n",
    "    print(r)\n",
    "auc_mean_1_1.append(np.mean(auc_i)) \n",
    "print('test_feas:', test_feas, '\\nauc_m = ', np.mean(auc_i))\n",
    "\n",
    "\n",
    "test_feas = ['S_NUM_S', 'AGE', 'S_E_T', 'S_BTH_T', 'S_T', 'F', 'I', 'S_ET_RA', 'SEX', 'S_ET', 'S_ST'\n",
    "            'S_ABD_T']\n",
    "\n",
    "auc_i = []\n",
    "for r in [0.8, 0.7, 0.6, 0.5, 0.4, 0.3, 0.2]:\n",
    "    for n in range(1000):\n",
    "        x_train, x_val, y_train, y_val = train_test_split(train_data[test_feas], train_label, train_size = r, random_state= n, stratify = train_label)\n",
    "        clf_0.fit(x_train, y_train)\n",
    "        probs = clf_0.predict_proba(x_val)\n",
    "        auc_n = metrics.roc_auc_score(y_val, probs[:, 1])\n",
    "        auc_i.append(auc_n)\n",
    "    print(r)\n",
    "auc_mean_1_1.append(np.mean(auc_i)) \n",
    "print('test_feas:', test_feas, '\\nauc_m = ', np.mean(auc_i))\n",
    "\n",
    "\n",
    "test_feas = ['S_NUM_S', 'AGE', 'S_E_T', 'S_BTH_T', 'S_T', 'F', 'I', 'S_ET_RA', 'SEX', 'S_ET', 'S_ST'\n",
    "            'S_DT_RA']\n",
    "\n",
    "auc_i = []\n",
    "for r in [0.8, 0.7, 0.6, 0.5, 0.4, 0.3, 0.2]:\n",
    "    for n in range(1000):\n",
    "        x_train, x_val, y_train, y_val = train_test_split(train_data[test_feas], train_label, train_size = r, random_state= n, stratify = train_label)\n",
    "        clf_0.fit(x_train, y_train)\n",
    "        probs = clf_0.predict_proba(x_val)\n",
    "        auc_n = metrics.roc_auc_score(y_val, probs[:, 1])\n",
    "        auc_i.append(auc_n)\n",
    "    print(r)\n",
    "auc_mean_1_1.append(np.mean(auc_i)) \n",
    "print('test_feas:', test_feas, '\\nauc_m = ', np.mean(auc_i))\n",
    "\n",
    "\n"
   ]
  },
  {
   "cell_type": "code",
   "execution_count": 29,
   "id": "8d1f1e12-2181-4e4e-8466-7555496e4cdb",
   "metadata": {
    "tags": []
   },
   "outputs": [
    {
     "name": "stdout",
     "output_type": "stream",
     "text": [
      "0.8\n",
      "0.7\n",
      "0.6\n",
      "0.5\n",
      "0.4\n",
      "0.3\n",
      "0.2\n",
      "test_feas: ['S_NUM_S', 'AGE', 'S_E_T', 'S_BTH_T', 'S_T', 'F', 'I', 'S_ET_RA', 'SEX', 'S_ET', 'S_ST', 'S_DT'] \n",
      "auc_m =  0.8904548879331592\n",
      "0.8\n",
      "0.7\n",
      "0.6\n",
      "0.5\n",
      "0.4\n",
      "0.3\n",
      "0.2\n",
      "test_feas: ['S_NUM_S', 'AGE', 'S_E_T', 'S_BTH_T', 'S_T', 'F', 'I', 'S_ET_RA', 'SEX', 'S_ET', 'S_ST', 'S_ABD_T'] \n",
      "auc_m =  0.8907341756315349\n",
      "0.8\n",
      "0.7\n",
      "0.6\n",
      "0.5\n",
      "0.4\n",
      "0.3\n",
      "0.2\n",
      "test_feas: ['S_NUM_S', 'AGE', 'S_E_T', 'S_BTH_T', 'S_T', 'F', 'I', 'S_ET_RA', 'SEX', 'S_ET', 'S_ST', 'S_DT_RA'] \n",
      "auc_m =  0.8902549717690682\n"
     ]
    }
   ],
   "source": [
    "test_feas = ['S_NUM_S', 'AGE', 'S_E_T', 'S_BTH_T', 'S_T', 'F', 'I', 'S_ET_RA', 'SEX', 'S_ET', 'S_ST',\n",
    "            'S_DT']\n",
    "\n",
    "auc_i = []\n",
    "for r in [0.8, 0.7, 0.6, 0.5, 0.4, 0.3, 0.2]:\n",
    "    for n in range(1000):\n",
    "        x_train, x_val, y_train, y_val = train_test_split(train_data[test_feas], train_label, train_size = r, random_state= n, stratify = train_label)\n",
    "        clf_0.fit(x_train, y_train)\n",
    "        probs = clf_0.predict_proba(x_val)\n",
    "        auc_n = metrics.roc_auc_score(y_val, probs[:, 1])\n",
    "        auc_i.append(auc_n)\n",
    "    print(r)\n",
    "auc_mean_1_1.append(np.mean(auc_i)) \n",
    "print('test_feas:', test_feas, '\\nauc_m = ', np.mean(auc_i))\n",
    "\n",
    "\n",
    "test_feas = ['S_NUM_S', 'AGE', 'S_E_T', 'S_BTH_T', 'S_T', 'F', 'I', 'S_ET_RA', 'SEX', 'S_ET', 'S_ST',\n",
    "            'S_ABD_T']\n",
    "\n",
    "auc_i = []\n",
    "for r in [0.8, 0.7, 0.6, 0.5, 0.4, 0.3, 0.2]:\n",
    "    for n in range(1000):\n",
    "        x_train, x_val, y_train, y_val = train_test_split(train_data[test_feas], train_label, train_size = r, random_state= n, stratify = train_label)\n",
    "        clf_0.fit(x_train, y_train)\n",
    "        probs = clf_0.predict_proba(x_val)\n",
    "        auc_n = metrics.roc_auc_score(y_val, probs[:, 1])\n",
    "        auc_i.append(auc_n)\n",
    "    print(r)\n",
    "auc_mean_1_1.append(np.mean(auc_i)) \n",
    "print('test_feas:', test_feas, '\\nauc_m = ', np.mean(auc_i))\n",
    "\n",
    "\n",
    "test_feas = ['S_NUM_S', 'AGE', 'S_E_T', 'S_BTH_T', 'S_T', 'F', 'I', 'S_ET_RA', 'SEX', 'S_ET', 'S_ST',\n",
    "            'S_DT_RA']\n",
    "\n",
    "auc_i = []\n",
    "for r in [0.8, 0.7, 0.6, 0.5, 0.4, 0.3, 0.2]:\n",
    "    for n in range(1000):\n",
    "        x_train, x_val, y_train, y_val = train_test_split(train_data[test_feas], train_label, train_size = r, random_state= n, stratify = train_label)\n",
    "        clf_0.fit(x_train, y_train)\n",
    "        probs = clf_0.predict_proba(x_val)\n",
    "        auc_n = metrics.roc_auc_score(y_val, probs[:, 1])\n",
    "        auc_i.append(auc_n)\n",
    "    print(r)\n",
    "auc_mean_1_1.append(np.mean(auc_i)) \n",
    "print('test_feas:', test_feas, '\\nauc_m = ', np.mean(auc_i))\n"
   ]
  },
  {
   "cell_type": "markdown",
   "id": "1042c600-eefa-42f9-96ee-0e79761a4668",
   "metadata": {},
   "source": [
    "2.1.3 hyper-parameters tuning #2"
   ]
  },
  {
   "cell_type": "code",
   "execution_count": 30,
   "id": "e4db8551-a1f0-4a87-8283-b754365da0bd",
   "metadata": {},
   "outputs": [
    {
     "name": "stdout",
     "output_type": "stream",
     "text": [
      "mean auc of clf_0 in 100HOCV is :  0.8995331985170203\n"
     ]
    }
   ],
   "source": [
    "'''\n",
    "clf_0 = XGBClassifier(n_estimators = 500, max_depth = 1, learning_rate = 0.046905106038914096, min_child_weight = 6,\n",
    "                            gamma = 0.6422643498766275, subsample = 0.8895201827332386, random_state = 123)\n",
    "'''\n",
    "significant_features = ['S_NUM_S', 'AGE', 'S_E_T', 'S_BTH_T', 'S_T', 'F', 'I', 'S_ET_RA', 'SEX', 'S_ET', 'S_ST']\n",
    "train_data = train_data[significant_features]\n",
    "auc_i = []\n",
    "for n in range(100):\n",
    "    x_train, x_val, y_train, y_val=train_test_split(train_data, train_label, train_size = 0.8, random_state= n, stratify= train_label)\n",
    "    clf_0.fit(x_train, y_train)\n",
    "    probs = clf_0.predict_proba(x_val)\n",
    "    auc_n = metrics.roc_auc_score(y_val, probs[:, 1])\n",
    "    auc_i.append(auc_n)\n",
    "auc_m = np.mean(auc_i)\n",
    "print('mean auc of clf_0 in 100HOCV is : ', auc_m)"
   ]
  },
  {
   "cell_type": "code",
   "execution_count": 31,
   "id": "8278ff01-9a7f-4cbe-9fe9-fe568d3950ca",
   "metadata": {},
   "outputs": [],
   "source": [
    "space4xgc = {\n",
    "    'learning_rate': hp.uniform('learning_rate', 0.01,0.3),   \n",
    "    'n_estimators': hp.quniform('n_estimators',50,600,25),  \n",
    "    'max_depth': hp.quniform('max_depth',1,10,1),\n",
    "    'min_child_weight':hp.quniform('min_child_weight',1,6,1),\n",
    "    'gamma': hp.uniform('gamma',0,0.6),\n",
    "    'subsample': hp.uniform('subsample',0.5,1)   \n",
    "}  "
   ]
  },
  {
   "cell_type": "code",
   "execution_count": 32,
   "id": "eef6de02-607c-4503-a52a-736c9d5f5bbe",
   "metadata": {},
   "outputs": [
    {
     "name": "stdout",
     "output_type": "stream",
     "text": [
      "100%|████| 100/100 [1:36:39<00:00, 58.00s/trial, best loss: -0.9006459948320413]\n",
      "\n",
      " \n",
      " best params: {'gamma': 0.40945639709064485, 'learning_rate': 0.048926565156366265, 'max_depth': 1.0, 'min_child_weight': 4.0, 'n_estimators': 525.0, 'subsample': 0.6068095625863299} \n",
      "\n"
     ]
    }
   ],
   "source": [
    "params_best, trials = param_hyperopt(100)"
   ]
  },
  {
   "cell_type": "code",
   "execution_count": 33,
   "id": "baaa096c-ce09-43fe-9101-c91af6c9da39",
   "metadata": {},
   "outputs": [
    {
     "name": "stdout",
     "output_type": "stream",
     "text": [
      "100%|██████| 100/100 [55:42<00:00, 33.43s/trial, best loss: -0.9000938096843052]\n",
      "\n",
      " \n",
      " best params: {'gamma': 0.04465803117963073, 'learning_rate': 0.13910537623047972, 'max_depth': 1.0, 'min_child_weight': 3.0, 'n_estimators': 150.0, 'subsample': 0.5832982508843672} \n",
      "\n"
     ]
    }
   ],
   "source": [
    "params_best, trials = param_hyperopt(100)"
   ]
  },
  {
   "cell_type": "code",
   "execution_count": 34,
   "id": "96977a7d-7bc7-427d-a727-ceccf09faa61",
   "metadata": {},
   "outputs": [
    {
     "name": "stdout",
     "output_type": "stream",
     "text": [
      "100%|████| 100/100 [1:28:05<00:00, 52.85s/trial, best loss: -0.9003595101673969]\n",
      "\n",
      " \n",
      " best params: {'gamma': 0.3015531478209838, 'learning_rate': 0.06102109916148678, 'max_depth': 1.0, 'min_child_weight': 4.0, 'n_estimators': 450.0, 'subsample': 0.6956124975796463} \n",
      "\n"
     ]
    }
   ],
   "source": [
    "params_best, trials = param_hyperopt(100)"
   ]
  },
  {
   "cell_type": "code",
   "execution_count": 35,
   "id": "133ff4ad-3320-4217-85a3-34992a0b87ef",
   "metadata": {},
   "outputs": [],
   "source": [
    "space4xgc = {\n",
    "    'learning_rate': hp.uniform('learning_rate', 0.01,0.1),   \n",
    "    'n_estimators': hp.quniform('n_estimators',425,550,25),  \n",
    "    'max_depth': 1,#hp.quniform('max_depth',1,10,1),\n",
    "    'min_child_weight':4,#hp.quniform('min_child_weight',3,4,1),\n",
    "    'gamma': hp.uniform('gamma',0.2,0.5),\n",
    "    'subsample': hp.uniform('subsample',0.6,0.7)   \n",
    "}  "
   ]
  },
  {
   "cell_type": "code",
   "execution_count": 36,
   "id": "a6e15b7e-6912-4d17-8851-3f7c18de30d5",
   "metadata": {},
   "outputs": [
    {
     "name": "stdout",
     "output_type": "stream",
     "text": [
      "100%|████| 100/100 [1:36:51<00:00, 58.12s/trial, best loss: -0.9008336142006516]\n",
      "\n",
      " \n",
      " best params: {'gamma': 0.34372492822303385, 'learning_rate': 0.046262676681857046, 'n_estimators': 500.0, 'subsample': 0.6000492296088057} \n",
      "\n"
     ]
    }
   ],
   "source": [
    "params_best, trials = param_hyperopt(100)"
   ]
  },
  {
   "cell_type": "code",
   "execution_count": 37,
   "id": "3ff4ccfa-34e7-4d13-bb49-643e7dfcbfdf",
   "metadata": {},
   "outputs": [
    {
     "name": "stdout",
     "output_type": "stream",
     "text": [
      "100%|████| 100/100 [1:25:08<00:00, 51.08s/trial, best loss: -0.9008324907313786]\n",
      "\n",
      " \n",
      " best params: {'gamma': 0.27854602115869626, 'learning_rate': 0.04078111435633796, 'n_estimators': 550.0, 'subsample': 0.6102454595456299} \n",
      "\n"
     ]
    }
   ],
   "source": [
    "params_best, trials = param_hyperopt(100)"
   ]
  },
  {
   "cell_type": "code",
   "execution_count": 38,
   "id": "410febd8-8e70-4345-b719-26fbb2c9fe21",
   "metadata": {},
   "outputs": [
    {
     "name": "stdout",
     "output_type": "stream",
     "text": [
      "100%|████| 100/100 [1:21:42<00:00, 49.02s/trial, best loss: -0.9008072126727333]\n",
      "\n",
      " \n",
      " best params: {'gamma': 0.3078956240841772, 'learning_rate': 0.043135595181805354, 'n_estimators': 525.0, 'subsample': 0.6054642007794796} \n",
      "\n"
     ]
    }
   ],
   "source": [
    "params_best, trials = param_hyperopt(100)"
   ]
  },
  {
   "cell_type": "code",
   "execution_count": 39,
   "id": "5c5f476a-2c0e-4a34-8360-293d1a136e97",
   "metadata": {},
   "outputs": [],
   "source": [
    "space4xgc = {\n",
    "    'learning_rate': hp.uniform('learning_rate', 0.035,0.05),   \n",
    "    'n_estimators': hp.quniform('n_estimators',475,575,5),  \n",
    "    'max_depth': 1,#hp.quniform('max_depth',1,10,1),\n",
    "    'min_child_weight':4,#hp.quniform('min_child_weight',3,4,1),\n",
    "    'gamma': hp.uniform('gamma',0.2,0.4),\n",
    "    'subsample': hp.uniform('subsample',0.55,0.65)   \n",
    "}  "
   ]
  },
  {
   "cell_type": "code",
   "execution_count": 40,
   "id": "17f8f970-2140-45a7-af0b-e8c3f4701794",
   "metadata": {},
   "outputs": [
    {
     "name": "stdout",
     "output_type": "stream",
     "text": [
      "100%|████| 100/100 [1:35:49<00:00, 57.50s/trial, best loss: -0.9009802269407934]\n",
      "\n",
      " \n",
      " best params: {'gamma': 0.2508120619766673, 'learning_rate': 0.039015041456294926, 'n_estimators': 540.0, 'subsample': 0.5675994149060832} \n",
      "\n"
     ]
    }
   ],
   "source": [
    "params_best, trials = param_hyperopt(100)"
   ]
  },
  {
   "cell_type": "code",
   "execution_count": 41,
   "id": "a3e51434-383c-45b8-9b28-21ac94af1514",
   "metadata": {},
   "outputs": [
    {
     "name": "stdout",
     "output_type": "stream",
     "text": [
      "100%|█████| 100/100 [1:37:55<00:00, 58.76s/trial, best loss: -0.900993146837434]\n",
      "\n",
      " \n",
      " best params: {'gamma': 0.26411450690027444, 'learning_rate': 0.044912211652964766, 'n_estimators': 540.0, 'subsample': 0.5565227602988679} \n",
      "\n"
     ]
    }
   ],
   "source": [
    "params_best, trials = param_hyperopt(100)"
   ]
  },
  {
   "cell_type": "code",
   "execution_count": 42,
   "id": "52596bae-962f-4885-9e62-2427acf9d121",
   "metadata": {},
   "outputs": [],
   "source": [
    "space4xgc = {\n",
    "    'learning_rate': hp.uniform('learning_rate', 0.035,0.05),   \n",
    "    'n_estimators': hp.quniform('n_estimators',500,550,5),  \n",
    "    'max_depth': 1,#hp.quniform('max_depth',1,10,1),\n",
    "    'min_child_weight':4,#hp.quniform('min_child_weight',3,4,1),\n",
    "    'gamma': hp.uniform('gamma',0.2,0.3),\n",
    "    'subsample': hp.uniform('subsample',0.55,0.6)   \n",
    "}  "
   ]
  },
  {
   "cell_type": "code",
   "execution_count": 43,
   "id": "8385e795-ff95-4214-b5bd-17b8204fc737",
   "metadata": {},
   "outputs": [
    {
     "name": "stdout",
     "output_type": "stream",
     "text": [
      "100%|████| 100/100 [1:57:57<00:00, 70.77s/trial, best loss: -0.9009976407145266]\n",
      "\n",
      " \n",
      " best params: {'gamma': 0.26297758009521893, 'learning_rate': 0.04000290859957704, 'n_estimators': 520.0, 'subsample': 0.5662940473330792} \n",
      "\n"
     ]
    }
   ],
   "source": [
    "params_best, trials = param_hyperopt(100)"
   ]
  },
  {
   "cell_type": "code",
   "execution_count": 44,
   "id": "70297d4b-6a1b-46da-8a03-a2386b28a39f",
   "metadata": {},
   "outputs": [
    {
     "name": "stdout",
     "output_type": "stream",
     "text": [
      "100%|████| 100/100 [1:56:13<00:00, 69.73s/trial, best loss: -0.9010088754072576]\n",
      "\n",
      " \n",
      " best params: {'gamma': 0.20811750149748293, 'learning_rate': 0.0403205032029171, 'n_estimators': 535.0, 'subsample': 0.5649957071497334} \n",
      "\n"
     ]
    }
   ],
   "source": [
    "params_best, trials = param_hyperopt(100)"
   ]
  },
  {
   "cell_type": "markdown",
   "id": "32b6d82c-d67f-4d23-b1bf-7825b6294007",
   "metadata": {},
   "source": [
    "2.2 prediction for IDH status (failed)"
   ]
  },
  {
   "cell_type": "code",
   "execution_count": 45,
   "id": "99ef6d2c-2ce4-4004-bce0-a07178d51e2d",
   "metadata": {},
   "outputs": [],
   "source": [
    "x_2 = deepcopy(data_1)\n",
    "x_2 = x_2[x_2['P_IDH'] > 0]\n",
    "x_2.index = range(len(x_2))\n",
    "y_2 = x_2['P_IDH']\n",
    "x_2 = x_2.drop(['P_IDH','P_TERT','P_CD','P_MGMT','GRADE',\"ID\"], axis = 1)\n",
    "y_2 = np.squeeze(np.array(y_2))\n",
    "y_2[y_2 == 1] = 0\n",
    "y_2[y_2 == 2] = 1"
   ]
  },
  {
   "cell_type": "code",
   "execution_count": 46,
   "id": "42fd3120-9a01-4ae6-8f4b-0ad008a8b56b",
   "metadata": {},
   "outputs": [],
   "source": [
    "train_data = x_2\n",
    "train_label = y_2"
   ]
  },
  {
   "cell_type": "code",
   "execution_count": 47,
   "id": "3118efb5-043a-446a-9f19-75e350368f97",
   "metadata": {},
   "outputs": [],
   "source": [
    "space4xgc = {\n",
    "    'learning_rate': hp.uniform('learning_rate', 0.01,0.3),   \n",
    "    'n_estimators': hp.quniform('n_estimators',50,500,25),  \n",
    "    'max_depth': hp.quniform('max_depth',1,10,1),\n",
    "    'min_child_weight':hp.quniform('min_child_weight',1,6,1),\n",
    "    'gamma': hp.uniform('gamma',0,0.6),\n",
    "    'subsample': hp.uniform('subsample',0.5,1)   \n",
    "}  "
   ]
  },
  {
   "cell_type": "code",
   "execution_count": 48,
   "id": "dd00a5d6-8006-448e-8a2a-b0ac7bceced2",
   "metadata": {},
   "outputs": [
    {
     "name": "stdout",
     "output_type": "stream",
     "text": [
      "100%|████████| 10/10 [07:25<00:00, 44.59s/trial, best loss: -0.8313802622498275]\n",
      "\n",
      " \n",
      " best params: {'gamma': 0.12253060002096547, 'learning_rate': 0.03809913109189958, 'max_depth': 8.0, 'min_child_weight': 2.0, 'n_estimators': 75.0, 'subsample': 0.538379117989098} \n",
      "\n"
     ]
    }
   ],
   "source": [
    "params_best, trials = param_hyperopt(10)"
   ]
  },
  {
   "cell_type": "code",
   "execution_count": 49,
   "id": "443b0a97-c54a-4e4c-896c-890e25f7b5ef",
   "metadata": {},
   "outputs": [
    {
     "name": "stdout",
     "output_type": "stream",
     "text": [
      "100%|████████| 10/10 [07:35<00:00, 45.57s/trial, best loss: -0.8297722567287784]\n",
      "\n",
      " \n",
      " best params: {'gamma': 0.41344046447972377, 'learning_rate': 0.02566389009868622, 'max_depth': 2.0, 'min_child_weight': 5.0, 'n_estimators': 75.0, 'subsample': 0.6369062878868266} \n",
      "\n"
     ]
    }
   ],
   "source": [
    "params_best, trials = param_hyperopt(10)"
   ]
  },
  {
   "cell_type": "code",
   "execution_count": 50,
   "id": "73af284a-67f1-4e60-8457-e27c0a491829",
   "metadata": {},
   "outputs": [
    {
     "name": "stdout",
     "output_type": "stream",
     "text": [
      "100%|████████| 10/10 [08:03<00:00, 48.36s/trial, best loss: -0.8175914423740511]\n",
      "\n",
      " \n",
      " best params: {'gamma': 0.2935409265994895, 'learning_rate': 0.06841295278193911, 'max_depth': 2.0, 'min_child_weight': 6.0, 'n_estimators': 275.0, 'subsample': 0.6500372165227859} \n",
      "\n"
     ]
    }
   ],
   "source": [
    "params_best, trials = param_hyperopt(10)"
   ]
  },
  {
   "cell_type": "code",
   "execution_count": 51,
   "id": "74f3d7e6-287e-40b1-a3b5-f31a4ec7d392",
   "metadata": {},
   "outputs": [
    {
     "name": "stdout",
     "output_type": "stream",
     "text": [
      "100%|████| 100/100 [1:00:47<00:00, 36.47s/trial, best loss: -0.8381815044858522]\n",
      "\n",
      " \n",
      " best params: {'gamma': 0.4936180366704832, 'learning_rate': 0.05390306073762062, 'max_depth': 1.0, 'min_child_weight': 4.0, 'n_estimators': 175.0, 'subsample': 0.7932926409179585} \n",
      "\n"
     ]
    }
   ],
   "source": [
    "params_best, trials = param_hyperopt(100)"
   ]
  },
  {
   "cell_type": "markdown",
   "id": "0423bfba-180b-4b1a-863b-0cee880d9487",
   "metadata": {},
   "source": [
    "2.3 prediction for 1p/19q status (failed)"
   ]
  },
  {
   "cell_type": "code",
   "execution_count": 52,
   "id": "6ac0872f-dd7e-441d-a2c3-c7b5245eca40",
   "metadata": {},
   "outputs": [],
   "source": [
    "x_3 = deepcopy(data_1)\n",
    "x_3 = x_3[x_3['P_IDH'] == 1][x_3['P_CD'] > 0]\n",
    "x_3.index = range(len(x_3))\n",
    "y_3 = x_3['P_CD']\n",
    "x_3 = x_3.drop(['P_IDH','P_TERT','P_CD','P_MGMT','GRADE',\"ID\"], axis = 1)\n",
    "y_3 = np.squeeze(np.array(y_3))\n",
    "y_3[y_3 == 1] = 0\n",
    "y_3[y_3 == 2] = 1"
   ]
  },
  {
   "cell_type": "code",
   "execution_count": 53,
   "id": "0b829b94-f61d-4756-8fdc-865120ec71d5",
   "metadata": {
    "collapsed": true,
    "jupyter": {
     "outputs_hidden": true
    },
    "tags": []
   },
   "outputs": [
    {
     "name": "stdout",
     "output_type": "stream",
     "text": [
      " 20%|█▊       | 2/10 [02:41<10:46, 80.86s/trial, best loss: -0.8082677708764663]\n"
     ]
    },
    {
     "ename": "KeyboardInterrupt",
     "evalue": "",
     "output_type": "error",
     "traceback": [
      "\u001b[0;31m---------------------------------------------------------------------------\u001b[0m",
      "\u001b[0;31mKeyboardInterrupt\u001b[0m                         Traceback (most recent call last)",
      "Cell \u001b[0;32mIn [53], line 1\u001b[0m\n\u001b[0;32m----> 1\u001b[0m params_best, trials \u001b[38;5;241m=\u001b[39m param_hyperopt(\u001b[38;5;241m10\u001b[39m)\n",
      "Cell \u001b[0;32mIn [3], line 19\u001b[0m, in \u001b[0;36mparam_hyperopt\u001b[0;34m(max_eval)\u001b[0m\n\u001b[1;32m     17\u001b[0m trials \u001b[38;5;241m=\u001b[39m Trials()\n\u001b[1;32m     18\u001b[0m \u001b[38;5;66;03m# early_stop_f = no_progress_loss(100)\u001b[39;00m\n\u001b[0;32m---> 19\u001b[0m params_best \u001b[38;5;241m=\u001b[39m \u001b[43mfmin\u001b[49m\u001b[43m(\u001b[49m\u001b[43mhyperopt_xgb\u001b[49m\u001b[43m,\u001b[49m\n\u001b[1;32m     20\u001b[0m \u001b[43m                   \u001b[49m\u001b[43mspace\u001b[49m\u001b[43m \u001b[49m\u001b[38;5;241;43m=\u001b[39;49m\u001b[43m \u001b[49m\u001b[43mspace4xgc\u001b[49m\u001b[43m,\u001b[49m\n\u001b[1;32m     21\u001b[0m \u001b[43m                   \u001b[49m\u001b[43mmax_evals\u001b[49m\u001b[43m \u001b[49m\u001b[38;5;241;43m=\u001b[39;49m\u001b[43m \u001b[49m\u001b[43mmax_eval\u001b[49m\u001b[43m,\u001b[49m\n\u001b[1;32m     22\u001b[0m \u001b[43m                   \u001b[49m\u001b[43malgo\u001b[49m\u001b[43m \u001b[49m\u001b[38;5;241;43m=\u001b[39;49m\u001b[43mtpe\u001b[49m\u001b[38;5;241;43m.\u001b[39;49m\u001b[43msuggest\u001b[49m\u001b[43m,\u001b[49m\n\u001b[1;32m     23\u001b[0m \u001b[43m                   \u001b[49m\u001b[43mverbose\u001b[49m\u001b[43m \u001b[49m\u001b[38;5;241;43m=\u001b[39;49m\u001b[43m \u001b[49m\u001b[38;5;28;43;01mTrue\u001b[39;49;00m\u001b[43m,\u001b[49m\n\u001b[1;32m     24\u001b[0m \u001b[43m                   \u001b[49m\u001b[43mtrials\u001b[49m\u001b[43m \u001b[49m\u001b[38;5;241;43m=\u001b[39;49m\u001b[43m \u001b[49m\u001b[43mtrials\u001b[49m\u001b[43m)\u001b[49m\n\u001b[1;32m     25\u001b[0m                    \u001b[38;5;66;03m#early_stop_fn = early_stop_f)\u001b[39;00m\n\u001b[1;32m     26\u001b[0m \u001b[38;5;28mprint\u001b[39m(\u001b[38;5;124m'\u001b[39m\u001b[38;5;130;01m\\n\u001b[39;00m\u001b[38;5;124m'\u001b[39m,\u001b[38;5;124m'\u001b[39m\u001b[38;5;130;01m\\n\u001b[39;00m\u001b[38;5;124m'\u001b[39m,\u001b[38;5;124m'\u001b[39m\u001b[38;5;124mbest params:\u001b[39m\u001b[38;5;124m'\u001b[39m, params_best,\u001b[38;5;124m'\u001b[39m\u001b[38;5;130;01m\\n\u001b[39;00m\u001b[38;5;124m'\u001b[39m)\n",
      "File \u001b[0;32m~/Apps/system/anaconda3/lib/python3.9/site-packages/hyperopt/fmin.py:540\u001b[0m, in \u001b[0;36mfmin\u001b[0;34m(fn, space, algo, max_evals, timeout, loss_threshold, trials, rstate, allow_trials_fmin, pass_expr_memo_ctrl, catch_eval_exceptions, verbose, return_argmin, points_to_evaluate, max_queue_len, show_progressbar, early_stop_fn, trials_save_file)\u001b[0m\n\u001b[1;32m    537\u001b[0m     fn \u001b[38;5;241m=\u001b[39m __objective_fmin_wrapper(fn)\n\u001b[1;32m    539\u001b[0m \u001b[38;5;28;01mif\u001b[39;00m allow_trials_fmin \u001b[38;5;129;01mand\u001b[39;00m \u001b[38;5;28mhasattr\u001b[39m(trials, \u001b[38;5;124m\"\u001b[39m\u001b[38;5;124mfmin\u001b[39m\u001b[38;5;124m\"\u001b[39m):\n\u001b[0;32m--> 540\u001b[0m     \u001b[38;5;28;01mreturn\u001b[39;00m \u001b[43mtrials\u001b[49m\u001b[38;5;241;43m.\u001b[39;49m\u001b[43mfmin\u001b[49m\u001b[43m(\u001b[49m\n\u001b[1;32m    541\u001b[0m \u001b[43m        \u001b[49m\u001b[43mfn\u001b[49m\u001b[43m,\u001b[49m\n\u001b[1;32m    542\u001b[0m \u001b[43m        \u001b[49m\u001b[43mspace\u001b[49m\u001b[43m,\u001b[49m\n\u001b[1;32m    543\u001b[0m \u001b[43m        \u001b[49m\u001b[43malgo\u001b[49m\u001b[38;5;241;43m=\u001b[39;49m\u001b[43malgo\u001b[49m\u001b[43m,\u001b[49m\n\u001b[1;32m    544\u001b[0m \u001b[43m        \u001b[49m\u001b[43mmax_evals\u001b[49m\u001b[38;5;241;43m=\u001b[39;49m\u001b[43mmax_evals\u001b[49m\u001b[43m,\u001b[49m\n\u001b[1;32m    545\u001b[0m \u001b[43m        \u001b[49m\u001b[43mtimeout\u001b[49m\u001b[38;5;241;43m=\u001b[39;49m\u001b[43mtimeout\u001b[49m\u001b[43m,\u001b[49m\n\u001b[1;32m    546\u001b[0m \u001b[43m        \u001b[49m\u001b[43mloss_threshold\u001b[49m\u001b[38;5;241;43m=\u001b[39;49m\u001b[43mloss_threshold\u001b[49m\u001b[43m,\u001b[49m\n\u001b[1;32m    547\u001b[0m \u001b[43m        \u001b[49m\u001b[43mmax_queue_len\u001b[49m\u001b[38;5;241;43m=\u001b[39;49m\u001b[43mmax_queue_len\u001b[49m\u001b[43m,\u001b[49m\n\u001b[1;32m    548\u001b[0m \u001b[43m        \u001b[49m\u001b[43mrstate\u001b[49m\u001b[38;5;241;43m=\u001b[39;49m\u001b[43mrstate\u001b[49m\u001b[43m,\u001b[49m\n\u001b[1;32m    549\u001b[0m \u001b[43m        \u001b[49m\u001b[43mpass_expr_memo_ctrl\u001b[49m\u001b[38;5;241;43m=\u001b[39;49m\u001b[43mpass_expr_memo_ctrl\u001b[49m\u001b[43m,\u001b[49m\n\u001b[1;32m    550\u001b[0m \u001b[43m        \u001b[49m\u001b[43mverbose\u001b[49m\u001b[38;5;241;43m=\u001b[39;49m\u001b[43mverbose\u001b[49m\u001b[43m,\u001b[49m\n\u001b[1;32m    551\u001b[0m \u001b[43m        \u001b[49m\u001b[43mcatch_eval_exceptions\u001b[49m\u001b[38;5;241;43m=\u001b[39;49m\u001b[43mcatch_eval_exceptions\u001b[49m\u001b[43m,\u001b[49m\n\u001b[1;32m    552\u001b[0m \u001b[43m        \u001b[49m\u001b[43mreturn_argmin\u001b[49m\u001b[38;5;241;43m=\u001b[39;49m\u001b[43mreturn_argmin\u001b[49m\u001b[43m,\u001b[49m\n\u001b[1;32m    553\u001b[0m \u001b[43m        \u001b[49m\u001b[43mshow_progressbar\u001b[49m\u001b[38;5;241;43m=\u001b[39;49m\u001b[43mshow_progressbar\u001b[49m\u001b[43m,\u001b[49m\n\u001b[1;32m    554\u001b[0m \u001b[43m        \u001b[49m\u001b[43mearly_stop_fn\u001b[49m\u001b[38;5;241;43m=\u001b[39;49m\u001b[43mearly_stop_fn\u001b[49m\u001b[43m,\u001b[49m\n\u001b[1;32m    555\u001b[0m \u001b[43m        \u001b[49m\u001b[43mtrials_save_file\u001b[49m\u001b[38;5;241;43m=\u001b[39;49m\u001b[43mtrials_save_file\u001b[49m\u001b[43m,\u001b[49m\n\u001b[1;32m    556\u001b[0m \u001b[43m    \u001b[49m\u001b[43m)\u001b[49m\n\u001b[1;32m    558\u001b[0m \u001b[38;5;28;01mif\u001b[39;00m trials \u001b[38;5;129;01mis\u001b[39;00m \u001b[38;5;28;01mNone\u001b[39;00m:\n\u001b[1;32m    559\u001b[0m     \u001b[38;5;28;01mif\u001b[39;00m os\u001b[38;5;241m.\u001b[39mpath\u001b[38;5;241m.\u001b[39mexists(trials_save_file):\n",
      "File \u001b[0;32m~/Apps/system/anaconda3/lib/python3.9/site-packages/hyperopt/base.py:671\u001b[0m, in \u001b[0;36mTrials.fmin\u001b[0;34m(self, fn, space, algo, max_evals, timeout, loss_threshold, max_queue_len, rstate, verbose, pass_expr_memo_ctrl, catch_eval_exceptions, return_argmin, show_progressbar, early_stop_fn, trials_save_file)\u001b[0m\n\u001b[1;32m    666\u001b[0m \u001b[38;5;66;03m# -- Stop-gap implementation!\u001b[39;00m\n\u001b[1;32m    667\u001b[0m \u001b[38;5;66;03m#    fmin should have been a Trials method in the first place\u001b[39;00m\n\u001b[1;32m    668\u001b[0m \u001b[38;5;66;03m#    but for now it's still sitting in another file.\u001b[39;00m\n\u001b[1;32m    669\u001b[0m \u001b[38;5;28;01mfrom\u001b[39;00m \u001b[38;5;21;01m.\u001b[39;00m\u001b[38;5;21;01mfmin\u001b[39;00m \u001b[38;5;28;01mimport\u001b[39;00m fmin\n\u001b[0;32m--> 671\u001b[0m \u001b[38;5;28;01mreturn\u001b[39;00m \u001b[43mfmin\u001b[49m\u001b[43m(\u001b[49m\n\u001b[1;32m    672\u001b[0m \u001b[43m    \u001b[49m\u001b[43mfn\u001b[49m\u001b[43m,\u001b[49m\n\u001b[1;32m    673\u001b[0m \u001b[43m    \u001b[49m\u001b[43mspace\u001b[49m\u001b[43m,\u001b[49m\n\u001b[1;32m    674\u001b[0m \u001b[43m    \u001b[49m\u001b[43malgo\u001b[49m\u001b[38;5;241;43m=\u001b[39;49m\u001b[43malgo\u001b[49m\u001b[43m,\u001b[49m\n\u001b[1;32m    675\u001b[0m \u001b[43m    \u001b[49m\u001b[43mmax_evals\u001b[49m\u001b[38;5;241;43m=\u001b[39;49m\u001b[43mmax_evals\u001b[49m\u001b[43m,\u001b[49m\n\u001b[1;32m    676\u001b[0m \u001b[43m    \u001b[49m\u001b[43mtimeout\u001b[49m\u001b[38;5;241;43m=\u001b[39;49m\u001b[43mtimeout\u001b[49m\u001b[43m,\u001b[49m\n\u001b[1;32m    677\u001b[0m \u001b[43m    \u001b[49m\u001b[43mloss_threshold\u001b[49m\u001b[38;5;241;43m=\u001b[39;49m\u001b[43mloss_threshold\u001b[49m\u001b[43m,\u001b[49m\n\u001b[1;32m    678\u001b[0m \u001b[43m    \u001b[49m\u001b[43mtrials\u001b[49m\u001b[38;5;241;43m=\u001b[39;49m\u001b[38;5;28;43mself\u001b[39;49m\u001b[43m,\u001b[49m\n\u001b[1;32m    679\u001b[0m \u001b[43m    \u001b[49m\u001b[43mrstate\u001b[49m\u001b[38;5;241;43m=\u001b[39;49m\u001b[43mrstate\u001b[49m\u001b[43m,\u001b[49m\n\u001b[1;32m    680\u001b[0m \u001b[43m    \u001b[49m\u001b[43mverbose\u001b[49m\u001b[38;5;241;43m=\u001b[39;49m\u001b[43mverbose\u001b[49m\u001b[43m,\u001b[49m\n\u001b[1;32m    681\u001b[0m \u001b[43m    \u001b[49m\u001b[43mmax_queue_len\u001b[49m\u001b[38;5;241;43m=\u001b[39;49m\u001b[43mmax_queue_len\u001b[49m\u001b[43m,\u001b[49m\n\u001b[1;32m    682\u001b[0m \u001b[43m    \u001b[49m\u001b[43mallow_trials_fmin\u001b[49m\u001b[38;5;241;43m=\u001b[39;49m\u001b[38;5;28;43;01mFalse\u001b[39;49;00m\u001b[43m,\u001b[49m\u001b[43m  \u001b[49m\u001b[38;5;66;43;03m# -- prevent recursion\u001b[39;49;00m\n\u001b[1;32m    683\u001b[0m \u001b[43m    \u001b[49m\u001b[43mpass_expr_memo_ctrl\u001b[49m\u001b[38;5;241;43m=\u001b[39;49m\u001b[43mpass_expr_memo_ctrl\u001b[49m\u001b[43m,\u001b[49m\n\u001b[1;32m    684\u001b[0m \u001b[43m    \u001b[49m\u001b[43mcatch_eval_exceptions\u001b[49m\u001b[38;5;241;43m=\u001b[39;49m\u001b[43mcatch_eval_exceptions\u001b[49m\u001b[43m,\u001b[49m\n\u001b[1;32m    685\u001b[0m \u001b[43m    \u001b[49m\u001b[43mreturn_argmin\u001b[49m\u001b[38;5;241;43m=\u001b[39;49m\u001b[43mreturn_argmin\u001b[49m\u001b[43m,\u001b[49m\n\u001b[1;32m    686\u001b[0m \u001b[43m    \u001b[49m\u001b[43mshow_progressbar\u001b[49m\u001b[38;5;241;43m=\u001b[39;49m\u001b[43mshow_progressbar\u001b[49m\u001b[43m,\u001b[49m\n\u001b[1;32m    687\u001b[0m \u001b[43m    \u001b[49m\u001b[43mearly_stop_fn\u001b[49m\u001b[38;5;241;43m=\u001b[39;49m\u001b[43mearly_stop_fn\u001b[49m\u001b[43m,\u001b[49m\n\u001b[1;32m    688\u001b[0m \u001b[43m    \u001b[49m\u001b[43mtrials_save_file\u001b[49m\u001b[38;5;241;43m=\u001b[39;49m\u001b[43mtrials_save_file\u001b[49m\u001b[43m,\u001b[49m\n\u001b[1;32m    689\u001b[0m \u001b[43m\u001b[49m\u001b[43m)\u001b[49m\n",
      "File \u001b[0;32m~/Apps/system/anaconda3/lib/python3.9/site-packages/hyperopt/fmin.py:586\u001b[0m, in \u001b[0;36mfmin\u001b[0;34m(fn, space, algo, max_evals, timeout, loss_threshold, trials, rstate, allow_trials_fmin, pass_expr_memo_ctrl, catch_eval_exceptions, verbose, return_argmin, points_to_evaluate, max_queue_len, show_progressbar, early_stop_fn, trials_save_file)\u001b[0m\n\u001b[1;32m    583\u001b[0m rval\u001b[38;5;241m.\u001b[39mcatch_eval_exceptions \u001b[38;5;241m=\u001b[39m catch_eval_exceptions\n\u001b[1;32m    585\u001b[0m \u001b[38;5;66;03m# next line is where the fmin is actually executed\u001b[39;00m\n\u001b[0;32m--> 586\u001b[0m \u001b[43mrval\u001b[49m\u001b[38;5;241;43m.\u001b[39;49m\u001b[43mexhaust\u001b[49m\u001b[43m(\u001b[49m\u001b[43m)\u001b[49m\n\u001b[1;32m    588\u001b[0m \u001b[38;5;28;01mif\u001b[39;00m return_argmin:\n\u001b[1;32m    589\u001b[0m     \u001b[38;5;28;01mif\u001b[39;00m \u001b[38;5;28mlen\u001b[39m(trials\u001b[38;5;241m.\u001b[39mtrials) \u001b[38;5;241m==\u001b[39m \u001b[38;5;241m0\u001b[39m:\n",
      "File \u001b[0;32m~/Apps/system/anaconda3/lib/python3.9/site-packages/hyperopt/fmin.py:364\u001b[0m, in \u001b[0;36mFMinIter.exhaust\u001b[0;34m(self)\u001b[0m\n\u001b[1;32m    362\u001b[0m \u001b[38;5;28;01mdef\u001b[39;00m \u001b[38;5;21mexhaust\u001b[39m(\u001b[38;5;28mself\u001b[39m):\n\u001b[1;32m    363\u001b[0m     n_done \u001b[38;5;241m=\u001b[39m \u001b[38;5;28mlen\u001b[39m(\u001b[38;5;28mself\u001b[39m\u001b[38;5;241m.\u001b[39mtrials)\n\u001b[0;32m--> 364\u001b[0m     \u001b[38;5;28;43mself\u001b[39;49m\u001b[38;5;241;43m.\u001b[39;49m\u001b[43mrun\u001b[49m\u001b[43m(\u001b[49m\u001b[38;5;28;43mself\u001b[39;49m\u001b[38;5;241;43m.\u001b[39;49m\u001b[43mmax_evals\u001b[49m\u001b[43m \u001b[49m\u001b[38;5;241;43m-\u001b[39;49m\u001b[43m \u001b[49m\u001b[43mn_done\u001b[49m\u001b[43m,\u001b[49m\u001b[43m \u001b[49m\u001b[43mblock_until_done\u001b[49m\u001b[38;5;241;43m=\u001b[39;49m\u001b[38;5;28;43mself\u001b[39;49m\u001b[38;5;241;43m.\u001b[39;49m\u001b[43masynchronous\u001b[49m\u001b[43m)\u001b[49m\n\u001b[1;32m    365\u001b[0m     \u001b[38;5;28mself\u001b[39m\u001b[38;5;241m.\u001b[39mtrials\u001b[38;5;241m.\u001b[39mrefresh()\n\u001b[1;32m    366\u001b[0m     \u001b[38;5;28;01mreturn\u001b[39;00m \u001b[38;5;28mself\u001b[39m\n",
      "File \u001b[0;32m~/Apps/system/anaconda3/lib/python3.9/site-packages/hyperopt/fmin.py:300\u001b[0m, in \u001b[0;36mFMinIter.run\u001b[0;34m(self, N, block_until_done)\u001b[0m\n\u001b[1;32m    297\u001b[0m     time\u001b[38;5;241m.\u001b[39msleep(\u001b[38;5;28mself\u001b[39m\u001b[38;5;241m.\u001b[39mpoll_interval_secs)\n\u001b[1;32m    298\u001b[0m \u001b[38;5;28;01melse\u001b[39;00m:\n\u001b[1;32m    299\u001b[0m     \u001b[38;5;66;03m# -- loop over trials and do the jobs directly\u001b[39;00m\n\u001b[0;32m--> 300\u001b[0m     \u001b[38;5;28;43mself\u001b[39;49m\u001b[38;5;241;43m.\u001b[39;49m\u001b[43mserial_evaluate\u001b[49m\u001b[43m(\u001b[49m\u001b[43m)\u001b[49m\n\u001b[1;32m    302\u001b[0m \u001b[38;5;28mself\u001b[39m\u001b[38;5;241m.\u001b[39mtrials\u001b[38;5;241m.\u001b[39mrefresh()\n\u001b[1;32m    303\u001b[0m \u001b[38;5;28;01mif\u001b[39;00m \u001b[38;5;28mself\u001b[39m\u001b[38;5;241m.\u001b[39mtrials_save_file \u001b[38;5;241m!=\u001b[39m \u001b[38;5;124m\"\u001b[39m\u001b[38;5;124m\"\u001b[39m:\n",
      "File \u001b[0;32m~/Apps/system/anaconda3/lib/python3.9/site-packages/hyperopt/fmin.py:178\u001b[0m, in \u001b[0;36mFMinIter.serial_evaluate\u001b[0;34m(self, N)\u001b[0m\n\u001b[1;32m    176\u001b[0m ctrl \u001b[38;5;241m=\u001b[39m base\u001b[38;5;241m.\u001b[39mCtrl(\u001b[38;5;28mself\u001b[39m\u001b[38;5;241m.\u001b[39mtrials, current_trial\u001b[38;5;241m=\u001b[39mtrial)\n\u001b[1;32m    177\u001b[0m \u001b[38;5;28;01mtry\u001b[39;00m:\n\u001b[0;32m--> 178\u001b[0m     result \u001b[38;5;241m=\u001b[39m \u001b[38;5;28;43mself\u001b[39;49m\u001b[38;5;241;43m.\u001b[39;49m\u001b[43mdomain\u001b[49m\u001b[38;5;241;43m.\u001b[39;49m\u001b[43mevaluate\u001b[49m\u001b[43m(\u001b[49m\u001b[43mspec\u001b[49m\u001b[43m,\u001b[49m\u001b[43m \u001b[49m\u001b[43mctrl\u001b[49m\u001b[43m)\u001b[49m\n\u001b[1;32m    179\u001b[0m \u001b[38;5;28;01mexcept\u001b[39;00m \u001b[38;5;167;01mException\u001b[39;00m \u001b[38;5;28;01mas\u001b[39;00m e:\n\u001b[1;32m    180\u001b[0m     logger\u001b[38;5;241m.\u001b[39merror(\u001b[38;5;124m\"\u001b[39m\u001b[38;5;124mjob exception: \u001b[39m\u001b[38;5;132;01m%s\u001b[39;00m\u001b[38;5;124m\"\u001b[39m \u001b[38;5;241m%\u001b[39m \u001b[38;5;28mstr\u001b[39m(e))\n",
      "File \u001b[0;32m~/Apps/system/anaconda3/lib/python3.9/site-packages/hyperopt/base.py:892\u001b[0m, in \u001b[0;36mDomain.evaluate\u001b[0;34m(self, config, ctrl, attach_attachments)\u001b[0m\n\u001b[1;32m    883\u001b[0m \u001b[38;5;28;01melse\u001b[39;00m:\n\u001b[1;32m    884\u001b[0m     \u001b[38;5;66;03m# -- the \"work\" of evaluating `config` can be written\u001b[39;00m\n\u001b[1;32m    885\u001b[0m     \u001b[38;5;66;03m#    either into the pyll part (self.expr)\u001b[39;00m\n\u001b[1;32m    886\u001b[0m     \u001b[38;5;66;03m#    or the normal Python part (self.fn)\u001b[39;00m\n\u001b[1;32m    887\u001b[0m     pyll_rval \u001b[38;5;241m=\u001b[39m pyll\u001b[38;5;241m.\u001b[39mrec_eval(\n\u001b[1;32m    888\u001b[0m         \u001b[38;5;28mself\u001b[39m\u001b[38;5;241m.\u001b[39mexpr,\n\u001b[1;32m    889\u001b[0m         memo\u001b[38;5;241m=\u001b[39mmemo,\n\u001b[1;32m    890\u001b[0m         print_node_on_error\u001b[38;5;241m=\u001b[39m\u001b[38;5;28mself\u001b[39m\u001b[38;5;241m.\u001b[39mrec_eval_print_node_on_error,\n\u001b[1;32m    891\u001b[0m     )\n\u001b[0;32m--> 892\u001b[0m     rval \u001b[38;5;241m=\u001b[39m \u001b[38;5;28;43mself\u001b[39;49m\u001b[38;5;241;43m.\u001b[39;49m\u001b[43mfn\u001b[49m\u001b[43m(\u001b[49m\u001b[43mpyll_rval\u001b[49m\u001b[43m)\u001b[49m\n\u001b[1;32m    894\u001b[0m \u001b[38;5;28;01mif\u001b[39;00m \u001b[38;5;28misinstance\u001b[39m(rval, (\u001b[38;5;28mfloat\u001b[39m, \u001b[38;5;28mint\u001b[39m, np\u001b[38;5;241m.\u001b[39mnumber)):\n\u001b[1;32m    895\u001b[0m     dict_rval \u001b[38;5;241m=\u001b[39m {\u001b[38;5;124m\"\u001b[39m\u001b[38;5;124mloss\u001b[39m\u001b[38;5;124m\"\u001b[39m: \u001b[38;5;28mfloat\u001b[39m(rval), \u001b[38;5;124m\"\u001b[39m\u001b[38;5;124mstatus\u001b[39m\u001b[38;5;124m\"\u001b[39m: STATUS_OK}\n",
      "Cell \u001b[0;32mIn [3], line 9\u001b[0m, in \u001b[0;36mhyperopt_xgb\u001b[0;34m(params)\u001b[0m\n\u001b[1;32m      4\u001b[0m x_train, x_val, y_train, y_val\u001b[38;5;241m=\u001b[39mtrain_test_split(train_data, train_label, train_size \u001b[38;5;241m=\u001b[39m \u001b[38;5;241m0.8\u001b[39m, random_state\u001b[38;5;241m=\u001b[39m n, stratify\u001b[38;5;241m=\u001b[39m train_label)\n\u001b[1;32m      5\u001b[0m clf \u001b[38;5;241m=\u001b[39m XGBClassifier(n_estimators \u001b[38;5;241m=\u001b[39m \u001b[38;5;28mint\u001b[39m(params[\u001b[38;5;124m'\u001b[39m\u001b[38;5;124mn_estimators\u001b[39m\u001b[38;5;124m'\u001b[39m]), max_depth \u001b[38;5;241m=\u001b[39m \u001b[38;5;28mint\u001b[39m(params[\u001b[38;5;124m'\u001b[39m\u001b[38;5;124mmax_depth\u001b[39m\u001b[38;5;124m'\u001b[39m]), \n\u001b[1;32m      6\u001b[0m                     learning_rate \u001b[38;5;241m=\u001b[39m params[\u001b[38;5;124m'\u001b[39m\u001b[38;5;124mlearning_rate\u001b[39m\u001b[38;5;124m'\u001b[39m], min_child_weight \u001b[38;5;241m=\u001b[39m \u001b[38;5;28mint\u001b[39m(params[\u001b[38;5;124m'\u001b[39m\u001b[38;5;124mmin_child_weight\u001b[39m\u001b[38;5;124m'\u001b[39m]),\n\u001b[1;32m      7\u001b[0m                     gamma \u001b[38;5;241m=\u001b[39m params[\u001b[38;5;124m'\u001b[39m\u001b[38;5;124mgamma\u001b[39m\u001b[38;5;124m'\u001b[39m], subsample \u001b[38;5;241m=\u001b[39m params[\u001b[38;5;124m'\u001b[39m\u001b[38;5;124msubsample\u001b[39m\u001b[38;5;124m'\u001b[39m],\n\u001b[1;32m      8\u001b[0m                     random_state \u001b[38;5;241m=\u001b[39m \u001b[38;5;241m123\u001b[39m)\n\u001b[0;32m----> 9\u001b[0m \u001b[43mclf\u001b[49m\u001b[38;5;241;43m.\u001b[39;49m\u001b[43mfit\u001b[49m\u001b[43m(\u001b[49m\u001b[43mx_train\u001b[49m\u001b[43m,\u001b[49m\u001b[43m \u001b[49m\u001b[43my_train\u001b[49m\u001b[43m)\u001b[49m\n\u001b[1;32m     10\u001b[0m probs \u001b[38;5;241m=\u001b[39m clf\u001b[38;5;241m.\u001b[39mpredict_proba(x_val)\n\u001b[1;32m     11\u001b[0m auc_n \u001b[38;5;241m=\u001b[39m metrics\u001b[38;5;241m.\u001b[39mroc_auc_score(y_val, probs[:, \u001b[38;5;241m1\u001b[39m])\n",
      "File \u001b[0;32m~/.local/lib/python3.9/site-packages/xgboost/core.py:532\u001b[0m, in \u001b[0;36m_deprecate_positional_args.<locals>.inner_f\u001b[0;34m(*args, **kwargs)\u001b[0m\n\u001b[1;32m    530\u001b[0m \u001b[38;5;28;01mfor\u001b[39;00m k, arg \u001b[38;5;129;01min\u001b[39;00m \u001b[38;5;28mzip\u001b[39m(sig\u001b[38;5;241m.\u001b[39mparameters, args):\n\u001b[1;32m    531\u001b[0m     kwargs[k] \u001b[38;5;241m=\u001b[39m arg\n\u001b[0;32m--> 532\u001b[0m \u001b[38;5;28;01mreturn\u001b[39;00m \u001b[43mf\u001b[49m\u001b[43m(\u001b[49m\u001b[38;5;241;43m*\u001b[39;49m\u001b[38;5;241;43m*\u001b[39;49m\u001b[43mkwargs\u001b[49m\u001b[43m)\u001b[49m\n",
      "File \u001b[0;32m~/.local/lib/python3.9/site-packages/xgboost/sklearn.py:1400\u001b[0m, in \u001b[0;36mXGBClassifier.fit\u001b[0;34m(self, X, y, sample_weight, base_margin, eval_set, eval_metric, early_stopping_rounds, verbose, xgb_model, sample_weight_eval_set, base_margin_eval_set, feature_weights, callbacks)\u001b[0m\n\u001b[1;32m   1379\u001b[0m model, metric, params, early_stopping_rounds, callbacks \u001b[38;5;241m=\u001b[39m \u001b[38;5;28mself\u001b[39m\u001b[38;5;241m.\u001b[39m_configure_fit(\n\u001b[1;32m   1380\u001b[0m     xgb_model, eval_metric, params, early_stopping_rounds, callbacks\n\u001b[1;32m   1381\u001b[0m )\n\u001b[1;32m   1382\u001b[0m train_dmatrix, evals \u001b[38;5;241m=\u001b[39m _wrap_evaluation_matrices(\n\u001b[1;32m   1383\u001b[0m     missing\u001b[38;5;241m=\u001b[39m\u001b[38;5;28mself\u001b[39m\u001b[38;5;241m.\u001b[39mmissing,\n\u001b[1;32m   1384\u001b[0m     X\u001b[38;5;241m=\u001b[39mX,\n\u001b[0;32m   (...)\u001b[0m\n\u001b[1;32m   1397\u001b[0m     enable_categorical\u001b[38;5;241m=\u001b[39m\u001b[38;5;28mself\u001b[39m\u001b[38;5;241m.\u001b[39menable_categorical,\n\u001b[1;32m   1398\u001b[0m )\n\u001b[0;32m-> 1400\u001b[0m \u001b[38;5;28mself\u001b[39m\u001b[38;5;241m.\u001b[39m_Booster \u001b[38;5;241m=\u001b[39m \u001b[43mtrain\u001b[49m\u001b[43m(\u001b[49m\n\u001b[1;32m   1401\u001b[0m \u001b[43m    \u001b[49m\u001b[43mparams\u001b[49m\u001b[43m,\u001b[49m\n\u001b[1;32m   1402\u001b[0m \u001b[43m    \u001b[49m\u001b[43mtrain_dmatrix\u001b[49m\u001b[43m,\u001b[49m\n\u001b[1;32m   1403\u001b[0m \u001b[43m    \u001b[49m\u001b[38;5;28;43mself\u001b[39;49m\u001b[38;5;241;43m.\u001b[39;49m\u001b[43mget_num_boosting_rounds\u001b[49m\u001b[43m(\u001b[49m\u001b[43m)\u001b[49m\u001b[43m,\u001b[49m\n\u001b[1;32m   1404\u001b[0m \u001b[43m    \u001b[49m\u001b[43mevals\u001b[49m\u001b[38;5;241;43m=\u001b[39;49m\u001b[43mevals\u001b[49m\u001b[43m,\u001b[49m\n\u001b[1;32m   1405\u001b[0m \u001b[43m    \u001b[49m\u001b[43mearly_stopping_rounds\u001b[49m\u001b[38;5;241;43m=\u001b[39;49m\u001b[43mearly_stopping_rounds\u001b[49m\u001b[43m,\u001b[49m\n\u001b[1;32m   1406\u001b[0m \u001b[43m    \u001b[49m\u001b[43mevals_result\u001b[49m\u001b[38;5;241;43m=\u001b[39;49m\u001b[43mevals_result\u001b[49m\u001b[43m,\u001b[49m\n\u001b[1;32m   1407\u001b[0m \u001b[43m    \u001b[49m\u001b[43mobj\u001b[49m\u001b[38;5;241;43m=\u001b[39;49m\u001b[43mobj\u001b[49m\u001b[43m,\u001b[49m\n\u001b[1;32m   1408\u001b[0m \u001b[43m    \u001b[49m\u001b[43mcustom_metric\u001b[49m\u001b[38;5;241;43m=\u001b[39;49m\u001b[43mmetric\u001b[49m\u001b[43m,\u001b[49m\n\u001b[1;32m   1409\u001b[0m \u001b[43m    \u001b[49m\u001b[43mverbose_eval\u001b[49m\u001b[38;5;241;43m=\u001b[39;49m\u001b[43mverbose\u001b[49m\u001b[43m,\u001b[49m\n\u001b[1;32m   1410\u001b[0m \u001b[43m    \u001b[49m\u001b[43mxgb_model\u001b[49m\u001b[38;5;241;43m=\u001b[39;49m\u001b[43mmodel\u001b[49m\u001b[43m,\u001b[49m\n\u001b[1;32m   1411\u001b[0m \u001b[43m    \u001b[49m\u001b[43mcallbacks\u001b[49m\u001b[38;5;241;43m=\u001b[39;49m\u001b[43mcallbacks\u001b[49m\u001b[43m,\u001b[49m\n\u001b[1;32m   1412\u001b[0m \u001b[43m\u001b[49m\u001b[43m)\u001b[49m\n\u001b[1;32m   1414\u001b[0m \u001b[38;5;28;01mif\u001b[39;00m \u001b[38;5;129;01mnot\u001b[39;00m callable(\u001b[38;5;28mself\u001b[39m\u001b[38;5;241m.\u001b[39mobjective):\n\u001b[1;32m   1415\u001b[0m     \u001b[38;5;28mself\u001b[39m\u001b[38;5;241m.\u001b[39mobjective \u001b[38;5;241m=\u001b[39m params[\u001b[38;5;124m\"\u001b[39m\u001b[38;5;124mobjective\u001b[39m\u001b[38;5;124m\"\u001b[39m]\n",
      "File \u001b[0;32m~/.local/lib/python3.9/site-packages/xgboost/core.py:532\u001b[0m, in \u001b[0;36m_deprecate_positional_args.<locals>.inner_f\u001b[0;34m(*args, **kwargs)\u001b[0m\n\u001b[1;32m    530\u001b[0m \u001b[38;5;28;01mfor\u001b[39;00m k, arg \u001b[38;5;129;01min\u001b[39;00m \u001b[38;5;28mzip\u001b[39m(sig\u001b[38;5;241m.\u001b[39mparameters, args):\n\u001b[1;32m    531\u001b[0m     kwargs[k] \u001b[38;5;241m=\u001b[39m arg\n\u001b[0;32m--> 532\u001b[0m \u001b[38;5;28;01mreturn\u001b[39;00m \u001b[43mf\u001b[49m\u001b[43m(\u001b[49m\u001b[38;5;241;43m*\u001b[39;49m\u001b[38;5;241;43m*\u001b[39;49m\u001b[43mkwargs\u001b[49m\u001b[43m)\u001b[49m\n",
      "File \u001b[0;32m~/.local/lib/python3.9/site-packages/xgboost/training.py:181\u001b[0m, in \u001b[0;36mtrain\u001b[0;34m(params, dtrain, num_boost_round, evals, obj, feval, maximize, early_stopping_rounds, evals_result, verbose_eval, xgb_model, callbacks, custom_metric)\u001b[0m\n\u001b[1;32m    179\u001b[0m \u001b[38;5;28;01mif\u001b[39;00m cb_container\u001b[38;5;241m.\u001b[39mbefore_iteration(bst, i, dtrain, evals):\n\u001b[1;32m    180\u001b[0m     \u001b[38;5;28;01mbreak\u001b[39;00m\n\u001b[0;32m--> 181\u001b[0m \u001b[43mbst\u001b[49m\u001b[38;5;241;43m.\u001b[39;49m\u001b[43mupdate\u001b[49m\u001b[43m(\u001b[49m\u001b[43mdtrain\u001b[49m\u001b[43m,\u001b[49m\u001b[43m \u001b[49m\u001b[43mi\u001b[49m\u001b[43m,\u001b[49m\u001b[43m \u001b[49m\u001b[43mobj\u001b[49m\u001b[43m)\u001b[49m\n\u001b[1;32m    182\u001b[0m \u001b[38;5;28;01mif\u001b[39;00m cb_container\u001b[38;5;241m.\u001b[39mafter_iteration(bst, i, dtrain, evals):\n\u001b[1;32m    183\u001b[0m     \u001b[38;5;28;01mbreak\u001b[39;00m\n",
      "File \u001b[0;32m~/.local/lib/python3.9/site-packages/xgboost/core.py:1733\u001b[0m, in \u001b[0;36mBooster.update\u001b[0;34m(self, dtrain, iteration, fobj)\u001b[0m\n\u001b[1;32m   1730\u001b[0m \u001b[38;5;28mself\u001b[39m\u001b[38;5;241m.\u001b[39m_validate_features(dtrain)\n\u001b[1;32m   1732\u001b[0m \u001b[38;5;28;01mif\u001b[39;00m fobj \u001b[38;5;129;01mis\u001b[39;00m \u001b[38;5;28;01mNone\u001b[39;00m:\n\u001b[0;32m-> 1733\u001b[0m     _check_call(\u001b[43m_LIB\u001b[49m\u001b[38;5;241;43m.\u001b[39;49m\u001b[43mXGBoosterUpdateOneIter\u001b[49m\u001b[43m(\u001b[49m\u001b[38;5;28;43mself\u001b[39;49m\u001b[38;5;241;43m.\u001b[39;49m\u001b[43mhandle\u001b[49m\u001b[43m,\u001b[49m\n\u001b[1;32m   1734\u001b[0m \u001b[43m                                            \u001b[49m\u001b[43mctypes\u001b[49m\u001b[38;5;241;43m.\u001b[39;49m\u001b[43mc_int\u001b[49m\u001b[43m(\u001b[49m\u001b[43miteration\u001b[49m\u001b[43m)\u001b[49m\u001b[43m,\u001b[49m\n\u001b[1;32m   1735\u001b[0m \u001b[43m                                            \u001b[49m\u001b[43mdtrain\u001b[49m\u001b[38;5;241;43m.\u001b[39;49m\u001b[43mhandle\u001b[49m\u001b[43m)\u001b[49m)\n\u001b[1;32m   1736\u001b[0m \u001b[38;5;28;01melse\u001b[39;00m:\n\u001b[1;32m   1737\u001b[0m     pred \u001b[38;5;241m=\u001b[39m \u001b[38;5;28mself\u001b[39m\u001b[38;5;241m.\u001b[39mpredict(dtrain, output_margin\u001b[38;5;241m=\u001b[39m\u001b[38;5;28;01mTrue\u001b[39;00m, training\u001b[38;5;241m=\u001b[39m\u001b[38;5;28;01mTrue\u001b[39;00m)\n",
      "\u001b[0;31mKeyboardInterrupt\u001b[0m: "
     ]
    }
   ],
   "source": [
    "params_best, trials = param_hyperopt(10)"
   ]
  },
  {
   "cell_type": "code",
   "execution_count": 54,
   "id": "e7a269a7-bb8f-4ebf-9269-0f9d449515fa",
   "metadata": {},
   "outputs": [],
   "source": [
    "train_data = x_3\n",
    "train_label = y_3"
   ]
  },
  {
   "cell_type": "code",
   "execution_count": 55,
   "id": "ff75a649-bb98-406a-95ce-82339cb0ff4d",
   "metadata": {},
   "outputs": [
    {
     "name": "stdout",
     "output_type": "stream",
     "text": [
      "100%|███████| 10/10 [08:23<00:00, 50.38s/trial, best loss: -0.47173387096774194]\n",
      "\n",
      " \n",
      " best params: {'gamma': 0.4332366324153875, 'learning_rate': 0.10794813777212135, 'max_depth': 7.0, 'min_child_weight': 1.0, 'n_estimators': 500.0, 'subsample': 0.5859849110807285} \n",
      "\n"
     ]
    }
   ],
   "source": [
    "params_best, trials = param_hyperopt(10)"
   ]
  },
  {
   "cell_type": "code",
   "execution_count": 56,
   "id": "9ff6b2b5-2c20-40ad-a610-d900587ec2af",
   "metadata": {},
   "outputs": [
    {
     "name": "stdout",
     "output_type": "stream",
     "text": [
      "100%|█████████| 10/10 [05:17<00:00, 31.73s/trial, best loss: -0.494502688172043]\n",
      "\n",
      " \n",
      " best params: {'gamma': 0.18479344789450414, 'learning_rate': 0.017814347320118266, 'max_depth': 1.0, 'min_child_weight': 4.0, 'n_estimators': 150.0, 'subsample': 0.5156562706511524} \n",
      "\n"
     ]
    }
   ],
   "source": [
    "params_best, trials = param_hyperopt(10)"
   ]
  },
  {
   "cell_type": "code",
   "execution_count": 57,
   "id": "7a2b9b2a-f072-4d96-bffc-902fd8357494",
   "metadata": {},
   "outputs": [
    {
     "name": "stdout",
     "output_type": "stream",
     "text": [
      "100%|████████| 10/10 [05:39<00:00, 33.99s/trial, best loss: -0.4716263440860216]\n",
      "\n",
      " \n",
      " best params: {'gamma': 0.47624865538492667, 'learning_rate': 0.278750253822811, 'max_depth': 5.0, 'min_child_weight': 1.0, 'n_estimators': 250.0, 'subsample': 0.6981003931199743} \n",
      "\n"
     ]
    }
   ],
   "source": [
    "params_best, trials = param_hyperopt(10)"
   ]
  },
  {
   "cell_type": "markdown",
   "id": "9ca8358d-7051-49a9-807a-b75d558fd434",
   "metadata": {},
   "source": [
    "2.4 prediction for TERT status (failed)"
   ]
  },
  {
   "cell_type": "code",
   "execution_count": 58,
   "id": "0fc72445-3a01-4062-a71b-cb3bc5fd093c",
   "metadata": {},
   "outputs": [],
   "source": [
    "x_4 = deepcopy(data_1)\n",
    "x_4 = x_4[x_4['P_TERT'] > 0]\n",
    "x_4.index = range(len(x_4))\n",
    "y_4 = x_4['P_TERT']\n",
    "x_4 = x_4.drop(['P_IDH','P_TERT','P_CD','P_MGMT','GRADE',\"ID\"], axis = 1)\n",
    "y_4 = np.squeeze(np.array(y_4))\n",
    "y_4[y_4 == 1] = 0\n",
    "y_4[y_4 == 2] = 1"
   ]
  },
  {
   "cell_type": "code",
   "execution_count": 59,
   "id": "44847302-0c31-4c9a-95af-c4853aa89e43",
   "metadata": {},
   "outputs": [],
   "source": [
    "train_data = x_4\n",
    "train_label = y_4"
   ]
  },
  {
   "cell_type": "code",
   "execution_count": 60,
   "id": "688ee858-3800-4369-9695-48ef0de2af17",
   "metadata": {},
   "outputs": [
    {
     "name": "stdout",
     "output_type": "stream",
     "text": [
      "100%|████████| 10/10 [06:38<00:00, 39.88s/trial, best loss: -0.6106820276497696]\n",
      "\n",
      " \n",
      " best params: {'gamma': 0.599357404691213, 'learning_rate': 0.014413601119044581, 'max_depth': 6.0, 'min_child_weight': 1.0, 'n_estimators': 75.0, 'subsample': 0.6106826819891433} \n",
      "\n"
     ]
    }
   ],
   "source": [
    "params_best, trials = param_hyperopt(10)"
   ]
  },
  {
   "cell_type": "code",
   "execution_count": 61,
   "id": "19d0bcdc-3d21-4154-a138-855ae4a98b41",
   "metadata": {},
   "outputs": [
    {
     "name": "stdout",
     "output_type": "stream",
     "text": [
      "100%|████████| 10/10 [06:48<00:00, 40.85s/trial, best loss: -0.5896036866359445]\n",
      "\n",
      " \n",
      " best params: {'gamma': 0.4393447762800538, 'learning_rate': 0.21035107231581682, 'max_depth': 5.0, 'min_child_weight': 1.0, 'n_estimators': 475.0, 'subsample': 0.7215685413313747} \n",
      "\n"
     ]
    }
   ],
   "source": [
    "params_best, trials = param_hyperopt(10)"
   ]
  },
  {
   "cell_type": "code",
   "execution_count": 62,
   "id": "27c7d3cc-9cb8-4eef-b4ba-cc72676b7384",
   "metadata": {},
   "outputs": [
    {
     "name": "stdout",
     "output_type": "stream",
     "text": [
      "100%|████████| 10/10 [06:37<00:00, 39.70s/trial, best loss: -0.5987142857142858]\n",
      "\n",
      " \n",
      " best params: {'gamma': 0.11767204659033656, 'learning_rate': 0.019490298664433442, 'max_depth': 2.0, 'min_child_weight': 2.0, 'n_estimators': 325.0, 'subsample': 0.8538182550556355} \n",
      "\n"
     ]
    }
   ],
   "source": [
    "params_best, trials = param_hyperopt(10)"
   ]
  },
  {
   "cell_type": "markdown",
   "id": "18ca6a27-a36c-40d3-b8bc-b81501029748",
   "metadata": {},
   "source": [
    "2.5 prediction for MGMT status (failed)"
   ]
  },
  {
   "cell_type": "code",
   "execution_count": 63,
   "id": "df33b455-125c-4aef-b1e9-f3af84024337",
   "metadata": {},
   "outputs": [],
   "source": [
    "x_5 = deepcopy(data_1)\n",
    "x_5 = x_5[x_5['P_MGMT'] > 0]\n",
    "x_5.index = range(len(x_5))\n",
    "y_5 = x_5['P_MGMT']\n",
    "x_5 = x_5.drop(['P_IDH','P_TERT','P_CD','P_MGMT','GRADE',\"ID\"], axis = 1)\n",
    "y_5 = np.squeeze(np.array(y_5))\n",
    "y_5[y_5 == 1] = 0\n",
    "y_5[y_5 == 2] = 1"
   ]
  },
  {
   "cell_type": "code",
   "execution_count": 64,
   "id": "9e6056d9-51a7-4181-8821-43f29a8869c0",
   "metadata": {},
   "outputs": [],
   "source": [
    "train_data = x_5\n",
    "train_label = y_5"
   ]
  },
  {
   "cell_type": "code",
   "execution_count": 65,
   "id": "414b2e0f-4b64-485c-9762-a5b01b7e21f1",
   "metadata": {},
   "outputs": [
    {
     "name": "stdout",
     "output_type": "stream",
     "text": [
      "100%|███████| 10/10 [06:47<00:00, 40.70s/trial, best loss: -0.48292778649921503]\n",
      "\n",
      " \n",
      " best params: {'gamma': 0.005867192433231949, 'learning_rate': 0.28741326669155925, 'max_depth': 9.0, 'min_child_weight': 1.0, 'n_estimators': 300.0, 'subsample': 0.8318538599908324} \n",
      "\n"
     ]
    }
   ],
   "source": [
    "params_best, trials = param_hyperopt(10)"
   ]
  },
  {
   "cell_type": "code",
   "execution_count": 66,
   "id": "9e991e79-74aa-41f0-aead-d5f8997c587b",
   "metadata": {},
   "outputs": [
    {
     "name": "stdout",
     "output_type": "stream",
     "text": [
      "100%|███████| 10/10 [05:11<00:00, 31.17s/trial, best loss: -0.48737964416535845]\n",
      "\n",
      " \n",
      " best params: {'gamma': 0.28250579572544626, 'learning_rate': 0.20688823394675318, 'max_depth': 1.0, 'min_child_weight': 2.0, 'n_estimators': 75.0, 'subsample': 0.9164656048405685} \n",
      "\n"
     ]
    }
   ],
   "source": [
    "params_best, trials = param_hyperopt(10)"
   ]
  },
  {
   "cell_type": "code",
   "execution_count": 67,
   "id": "5302e293-ec79-4d21-afeb-1def65be64f1",
   "metadata": {},
   "outputs": [
    {
     "name": "stdout",
     "output_type": "stream",
     "text": [
      "100%|███████| 10/10 [08:28<00:00, 50.82s/trial, best loss: -0.48379644165358454]\n",
      "\n",
      " \n",
      " best params: {'gamma': 0.4744922642324027, 'learning_rate': 0.14882970833508008, 'max_depth': 7.0, 'min_child_weight': 2.0, 'n_estimators': 350.0, 'subsample': 0.9561533859802508} \n",
      "\n"
     ]
    }
   ],
   "source": [
    "params_best, trials = param_hyperopt(10)"
   ]
  }
 ],
 "metadata": {
  "kernelspec": {
   "display_name": "Python 3 (ipykernel)",
   "language": "python",
   "name": "python3"
  },
  "language_info": {
   "codemirror_mode": {
    "name": "ipython",
    "version": 3
   },
   "file_extension": ".py",
   "mimetype": "text/x-python",
   "name": "python",
   "nbconvert_exporter": "python",
   "pygments_lexer": "ipython3",
   "version": "3.8.5"
  }
 },
 "nbformat": 4,
 "nbformat_minor": 5
}
